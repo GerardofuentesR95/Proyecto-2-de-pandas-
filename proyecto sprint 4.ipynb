{
 "cells": [
  {
   "cell_type": "markdown",
   "id": "3Xg_RQfnafXz",
   "metadata": {
    "id": "3Xg_RQfnafXz"
   },
   "source": [
    "# ¡Llena ese carrito!"
   ]
  },
  {
   "cell_type": "markdown",
   "id": "mhIvmmkW414q",
   "metadata": {
    "id": "mhIvmmkW414q"
   },
   "source": [
    "# Introducción\n",
    "\n",
    "Instacart es una plataforma de entregas de comestibles donde la clientela puede registrar un pedido y hacer que se lo entreguen, similar a Uber Eats y Door Dash.\n",
    "El conjunto de datos que te hemos proporcionado tiene modificaciones del original. Redujimos el tamaño del conjunto para que tus cálculos se hicieran más rápido e introdujimos valores ausentes y duplicados. Tuvimos cuidado de conservar las distribuciones de los datos originales cuando hicimos los cambios.\n",
    "\n",
    "Debes completar tres pasos. Para cada uno de ellos, escribe una breve introducción que refleje con claridad cómo pretendes resolver cada paso, y escribe párrafos explicatorios que justifiquen tus decisiones al tiempo que avanzas en tu solución.  También escribe una conclusión que resuma tus hallazgos y elecciones.\n"
   ]
  },
  {
   "cell_type": "markdown",
   "id": "3MbyzpOQZ5Or",
   "metadata": {
    "id": "3MbyzpOQZ5Or"
   },
   "source": [
    "## Diccionario de datos\n",
    "\n",
    "Hay cinco tablas en el conjunto de datos, y tendrás que usarlas todas para hacer el preprocesamiento de datos y el análisis exploratorio de datos. A continuación se muestra un diccionario de datos que enumera las columnas de cada tabla y describe los datos que contienen.\n",
    "\n",
    "- `instacart_orders.csv`: cada fila corresponde a un pedido en la aplicación Instacart.\n",
    "    - `'order_id'`: número de ID que identifica de manera única cada pedido.\n",
    "    - `'user_id'`: número de ID que identifica de manera única la cuenta de cada cliente.\n",
    "    - `'order_number'`: el número de veces que este cliente ha hecho un pedido.\n",
    "    - `'order_dow'`: día de la semana en que se hizo el pedido (0 si es domingo).\n",
    "    - `'order_hour_of_day'`: hora del día en que se hizo el pedido.\n",
    "    - `'days_since_prior_order'`: número de días transcurridos desde que este cliente hizo su pedido anterior.\n",
    "- `products.csv`: cada fila corresponde a un producto único que pueden comprar los clientes.\n",
    "    - `'product_id'`: número ID que identifica de manera única cada producto.\n",
    "    - `'product_name'`: nombre del producto.\n",
    "    - `'aisle_id'`: número ID que identifica de manera única cada categoría de pasillo de víveres.\n",
    "    - `'department_id'`: número ID que identifica de manera única cada departamento de víveres.\n",
    "- `order_products.csv`: cada fila corresponde a un artículo pedido en un pedido.\n",
    "    - `'order_id'`: número de ID que identifica de manera única cada pedido.\n",
    "    - `'product_id'`: número ID que identifica de manera única cada producto.\n",
    "    - `'add_to_cart_order'`: el orden secuencial en el que se añadió cada artículo en el carrito.\n",
    "    - `'reordered'`: 0 si el cliente nunca ha pedido este producto antes, 1 si lo ha pedido.\n",
    "- `aisles.csv`\n",
    "    - `'aisle_id'`: número ID que identifica de manera única cada categoría de pasillo de víveres.\n",
    "    - `'aisle'`: nombre del pasillo.\n",
    "- `departments.csv`\n",
    "    - `'department_id'`: número ID que identifica de manera única cada departamento de víveres.\n",
    "    - `'department'`: nombre del departamento."
   ]
  },
  {
   "cell_type": "markdown",
   "id": "n3Ha_cNSZ8lK",
   "metadata": {
    "id": "n3Ha_cNSZ8lK"
   },
   "source": [
    "# Paso 1. Descripción de los datos\n",
    "\n",
    "Lee los archivos de datos (`/datasets/instacart_orders.csv`, `/datasets/products.csv`, `/datasets/aisles.csv`, `/datasets/departments.csv` y `/datasets/order_products.csv`) con `pd.read_csv()` usando los parámetros adecuados para leer los datos correctamente. Verifica la información para cada DataFrame creado.\n"
   ]
  },
  {
   "cell_type": "markdown",
   "id": "OmlQPLlyaAfR",
   "metadata": {
    "id": "OmlQPLlyaAfR"
   },
   "source": [
    "## Plan de solución\n",
    "\n",
    "importar a pandas\n",
    "Utilizar el método info ()\n"
   ]
  },
  {
   "cell_type": "code",
   "execution_count": 1,
   "id": "fbf1adab",
   "metadata": {
    "id": "fbf1adab"
   },
   "outputs": [],
   "source": [
    "import pandas as pd \n",
    "import matplotlib.pyplot as plt"
   ]
  },
  {
   "cell_type": "code",
   "execution_count": 2,
   "id": "ad36396d",
   "metadata": {
    "id": "ad36396d"
   },
   "outputs": [],
   "source": [
    "orders = pd.read_csv('/datasets/instacart_orders.csv', sep= \";\")\n",
    "products = pd.read_csv('/datasets/products.csv', sep= \";\")\n",
    "aisles = pd.read_csv('/datasets/aisles.csv', sep= \";\")\n",
    "departments = pd.read_csv('/datasets/departments.csv', sep= \";\")\n",
    "order_products = pd.read_csv('/datasets/order_products.csv', sep= \";\")"
   ]
  },
  {
   "cell_type": "code",
   "execution_count": 3,
   "id": "ad6a1efa",
   "metadata": {
    "id": "ad6a1efa"
   },
   "outputs": [
    {
     "name": "stdout",
     "output_type": "stream",
     "text": [
      "<class 'pandas.core.frame.DataFrame'>\n",
      "RangeIndex: 478967 entries, 0 to 478966\n",
      "Data columns (total 6 columns):\n",
      " #   Column                  Non-Null Count   Dtype  \n",
      "---  ------                  --------------   -----  \n",
      " 0   order_id                478967 non-null  int64  \n",
      " 1   user_id                 478967 non-null  int64  \n",
      " 2   order_number            478967 non-null  int64  \n",
      " 3   order_dow               478967 non-null  int64  \n",
      " 4   order_hour_of_day       478967 non-null  int64  \n",
      " 5   days_since_prior_order  450148 non-null  float64\n",
      "dtypes: float64(1), int64(5)\n",
      "memory usage: 21.9 MB\n"
     ]
    }
   ],
   "source": [
    "orders.info()"
   ]
  },
  {
   "cell_type": "code",
   "execution_count": 4,
   "id": "5130e05e",
   "metadata": {
    "id": "5130e05e"
   },
   "outputs": [
    {
     "name": "stdout",
     "output_type": "stream",
     "text": [
      "<class 'pandas.core.frame.DataFrame'>\n",
      "RangeIndex: 49694 entries, 0 to 49693\n",
      "Data columns (total 4 columns):\n",
      " #   Column         Non-Null Count  Dtype \n",
      "---  ------         --------------  ----- \n",
      " 0   product_id     49694 non-null  int64 \n",
      " 1   product_name   48436 non-null  object\n",
      " 2   aisle_id       49694 non-null  int64 \n",
      " 3   department_id  49694 non-null  int64 \n",
      "dtypes: int64(3), object(1)\n",
      "memory usage: 1.5+ MB\n"
     ]
    }
   ],
   "source": [
    "products.info()"
   ]
  },
  {
   "cell_type": "code",
   "execution_count": 5,
   "id": "d8370c05",
   "metadata": {
    "id": "d8370c05"
   },
   "outputs": [
    {
     "name": "stdout",
     "output_type": "stream",
     "text": [
      "<class 'pandas.core.frame.DataFrame'>\n",
      "RangeIndex: 134 entries, 0 to 133\n",
      "Data columns (total 2 columns):\n",
      " #   Column    Non-Null Count  Dtype \n",
      "---  ------    --------------  ----- \n",
      " 0   aisle_id  134 non-null    int64 \n",
      " 1   aisle     134 non-null    object\n",
      "dtypes: int64(1), object(1)\n",
      "memory usage: 2.2+ KB\n"
     ]
    }
   ],
   "source": [
    "aisles.info()"
   ]
  },
  {
   "cell_type": "code",
   "execution_count": 6,
   "id": "59e2090f",
   "metadata": {
    "id": "59e2090f"
   },
   "outputs": [
    {
     "name": "stdout",
     "output_type": "stream",
     "text": [
      "<class 'pandas.core.frame.DataFrame'>\n",
      "RangeIndex: 21 entries, 0 to 20\n",
      "Data columns (total 2 columns):\n",
      " #   Column         Non-Null Count  Dtype \n",
      "---  ------         --------------  ----- \n",
      " 0   department_id  21 non-null     int64 \n",
      " 1   department     21 non-null     object\n",
      "dtypes: int64(1), object(1)\n",
      "memory usage: 464.0+ bytes\n"
     ]
    }
   ],
   "source": [
    "departments.info()"
   ]
  },
  {
   "cell_type": "code",
   "execution_count": 7,
   "id": "6fc81694",
   "metadata": {
    "id": "6fc81694"
   },
   "outputs": [
    {
     "name": "stdout",
     "output_type": "stream",
     "text": [
      "<class 'pandas.core.frame.DataFrame'>\n",
      "RangeIndex: 4545007 entries, 0 to 4545006\n",
      "Data columns (total 4 columns):\n",
      " #   Column             Non-Null Count    Dtype  \n",
      "---  ------             --------------    -----  \n",
      " 0   order_id           4545007 non-null  int64  \n",
      " 1   product_id         4545007 non-null  int64  \n",
      " 2   add_to_cart_order  4544171 non-null  float64\n",
      " 3   reordered          4545007 non-null  int64  \n",
      "dtypes: float64(1), int64(3)\n",
      "memory usage: 138.7 MB\n"
     ]
    }
   ],
   "source": [
    "order_products.info(show_counts=True)"
   ]
  },
  {
   "cell_type": "markdown",
   "id": "t75BD19oaR5f",
   "metadata": {
    "id": "t75BD19oaR5f"
   },
   "source": [
    "## Conclusiones\n",
    "\n",
    "No estaban correctamente separadas las columnas por lo que tuve que utilizar sep= \";\", algunos documentos como ordes, products y order_products tienen valores nulos, lo cual será necesario para arreglarlo, la mayoría son archivos pequeños con la excepción de order_prodcuts y orders.\n"
   ]
  },
  {
   "cell_type": "markdown",
   "id": "8RJHqxVmaVsF",
   "metadata": {
    "id": "8RJHqxVmaVsF"
   },
   "source": [
    "# Paso 2. Preprocesamiento de los datos\n",
    "\n",
    "Preprocesa los datos de la siguiente manera:\n",
    "\n",
    "- Verifica y corrige los tipos de datos (por ejemplo, asegúrate de que las columnas de ID sean números enteros).\n",
    "- Identifica y completa los valores ausentes.\n",
    "- Identifica y elimina los valores duplicados.\n",
    "\n",
    "Asegúrate de explicar qué tipos de valores ausentes y duplicados encontraste, cómo los completaste o eliminaste y por qué usaste esos métodos. ¿Por qué crees que estos valores ausentes y duplicados pueden haber estado presentes en el conjunto de datos?"
   ]
  },
  {
   "cell_type": "markdown",
   "id": "p6poABZQaZYb",
   "metadata": {
    "id": "p6poABZQaZYb"
   },
   "source": [
    "## Plan de solución\n",
    "\n",
    "Escribe aquí tu plan para el Paso 2. Preprocesamiento de los datos."
   ]
  },
  {
   "cell_type": "markdown",
   "id": "07357848-dc64-4156-9cc3-01ff4365226d",
   "metadata": {
    "id": "07357848-dc64-4156-9cc3-01ff4365226d"
   },
   "source": [
    "## Encuentra y elimina los valores duplicados (y describe cómo tomaste tus decisiones)."
   ]
  },
  {
   "cell_type": "markdown",
   "id": "f179f0a9",
   "metadata": {
    "id": "f179f0a9"
   },
   "source": [
    "### `orders` data frame"
   ]
  },
  {
   "cell_type": "code",
   "execution_count": 8,
   "id": "b99297a5-405a-463d-8535-9adc3da4ad74",
   "metadata": {
    "id": "b99297a5-405a-463d-8535-9adc3da4ad74"
   },
   "outputs": [
    {
     "name": "stdout",
     "output_type": "stream",
     "text": [
      "        order_id  user_id  order_number  order_dow  order_hour_of_day  \\\n",
      "145574    794638    50898            24          3                  2   \n",
      "223105   2160484   107525            16          3                  2   \n",
      "230807   1918001   188546            14          3                  2   \n",
      "266232   1782114   106752             1          3                  2   \n",
      "273805   1112182   202304            84          3                  2   \n",
      "284038   2845099    31189            11          3                  2   \n",
      "311713   1021560    53767             3          3                  2   \n",
      "321100    408114    68324             4          3                  2   \n",
      "323900   1919531   191501            32          3                  2   \n",
      "345917   2232988    82565             1          3                  2   \n",
      "371905    391768    57671            19          3                  2   \n",
      "394347    467134    63189            21          3                  2   \n",
      "411408   1286742   183220            48          3                  2   \n",
      "415163   2282673    86751            49          3                  2   \n",
      "441599   2125197    14050            48          3                  2   \n",
      "\n",
      "        days_since_prior_order  \n",
      "145574                     2.0  \n",
      "223105                    30.0  \n",
      "230807                    16.0  \n",
      "266232                     NaN  \n",
      "273805                     6.0  \n",
      "284038                     7.0  \n",
      "311713                     9.0  \n",
      "321100                    18.0  \n",
      "323900                     7.0  \n",
      "345917                     NaN  \n",
      "371905                    10.0  \n",
      "394347                     2.0  \n",
      "411408                     4.0  \n",
      "415163                     2.0  \n",
      "441599                     3.0  \n"
     ]
    }
   ],
   "source": [
    "# Revisa si hay pedidos duplicados\n",
    "print(orders[orders.duplicated()])"
   ]
  },
  {
   "cell_type": "markdown",
   "id": "PEkwUX_gvt5A",
   "metadata": {
    "id": "PEkwUX_gvt5A"
   },
   "source": [
    "¿Tienes líneas duplicadas? Si sí, ¿qué tienen en común?"
   ]
  },
  {
   "cell_type": "code",
   "execution_count": 9,
   "id": "0d44de5d",
   "metadata": {
    "id": "0d44de5d"
   },
   "outputs": [
    {
     "name": "stdout",
     "output_type": "stream",
     "text": [
      "        order_id  user_id  order_number  order_dow  order_hour_of_day  \\\n",
      "4838     2766110   162084            41          3                  2   \n",
      "5156     2190225   138285            18          3                  2   \n",
      "15506     553049    58599            13          3                  2   \n",
      "18420     382357   120200            19          3                  2   \n",
      "24691     690242    77357             2          3                  2   \n",
      "...          ...      ...           ...        ...                ...   \n",
      "457013   3384021    14881             6          3                  2   \n",
      "458816    910166   164782            18          3                  2   \n",
      "459635   1680532   106435             6          3                  2   \n",
      "468324    222962    54979            59          3                  2   \n",
      "477526   2592344    46860            38          3                  2   \n",
      "\n",
      "        days_since_prior_order  \n",
      "4838                      16.0  \n",
      "5156                      11.0  \n",
      "15506                      7.0  \n",
      "18420                     11.0  \n",
      "24691                      9.0  \n",
      "...                        ...  \n",
      "457013                    30.0  \n",
      "458816                     4.0  \n",
      "459635                    21.0  \n",
      "468324                     3.0  \n",
      "477526                     3.0  \n",
      "\n",
      "[121 rows x 6 columns]\n",
      "121\n"
     ]
    }
   ],
   "source": [
    "# Basándote en tus hallazgos,\n",
    "#si hay 15 duplicados, todos se hicieron el miercoles antes de las 2 am.\n",
    "# Verifica todos los pedidos que se hicieron el miércoles a las 2:00 a.m.\n",
    "wednesday_2am_orders = orders[(orders['order_dow'] == 3) & (orders['order_hour_of_day'] == 2)]\n",
    "print (wednesday_2am_orders)\n",
    "total_pedidos = len(wednesday_2am_orders)\n",
    "print (total_pedidos)"
   ]
  },
  {
   "cell_type": "markdown",
   "id": "vu2OWyoqwOx5",
   "metadata": {
    "id": "vu2OWyoqwOx5"
   },
   "source": [
    "¿Qué sugiere este resultado?"
   ]
  },
  {
   "cell_type": "code",
   "execution_count": 10,
   "id": "480563c7",
   "metadata": {
    "id": "480563c7"
   },
   "outputs": [
    {
     "name": "stdout",
     "output_type": "stream",
     "text": [
      "(478952, 6)\n"
     ]
    }
   ],
   "source": [
    "# Elimina los pedidos duplicados\n",
    "orders_sin_duplicados = orders.drop_duplicates()\n",
    "\n",
    "# Verificamos que se eliminaron\n",
    "print(orders_sin_duplicados.shape)"
   ]
  },
  {
   "cell_type": "code",
   "execution_count": 11,
   "id": "0b2396a2",
   "metadata": {
    "id": "0b2396a2"
   },
   "outputs": [
    {
     "name": "stdout",
     "output_type": "stream",
     "text": [
      "Antes de eliminar duplicados: (478967, 6)\n",
      "Después de eliminar duplicados: (478952, 6)\n"
     ]
    }
   ],
   "source": [
    "# Número de filas antes de eliminar duplicados\n",
    "print('Antes de eliminar duplicados:', orders.shape)\n",
    "\n",
    "# Eliminamos duplicados\n",
    "orders_sin_duplicados = orders.drop_duplicates()\n",
    "\n",
    "# Número de filas después de eliminar duplicados\n",
    "print('Después de eliminar duplicados:', orders_sin_duplicados.shape)"
   ]
  },
  {
   "cell_type": "code",
   "execution_count": 12,
   "id": "f6113ef1",
   "metadata": {
    "id": "f6113ef1"
   },
   "outputs": [
    {
     "name": "stdout",
     "output_type": "stream",
     "text": [
      "Número de order_id duplicados: 0\n"
     ]
    }
   ],
   "source": [
    "# Vuelve a verificar únicamente si hay IDs duplicados de pedidos\n",
    "# Verificamos si hay order_id duplicados\n",
    "duplicados_order_id = orders_sin_duplicados['order_id'].duplicated()\n",
    "\n",
    "# Contamos cuántos son True (es decir, cuántos order_id están duplicados)\n",
    "print('Número de order_id duplicados:', duplicados_order_id.sum())"
   ]
  },
  {
   "cell_type": "markdown",
   "id": "5e8905ae",
   "metadata": {
    "id": "5e8905ae"
   },
   "source": [
    "Se eliminaron todos los datos duplicados "
   ]
  },
  {
   "cell_type": "markdown",
   "id": "45e6bc46",
   "metadata": {
    "id": "45e6bc46"
   },
   "source": [
    "### `products` data frame"
   ]
  },
  {
   "cell_type": "code",
   "execution_count": 13,
   "id": "5f526b5b-8175-46fa-a0fd-441767d50e64",
   "metadata": {
    "id": "5f526b5b-8175-46fa-a0fd-441767d50e64"
   },
   "outputs": [
    {
     "name": "stdout",
     "output_type": "stream",
     "text": [
      "0\n"
     ]
    }
   ],
   "source": [
    "# Verifica si hay filas totalmente duplicadas\n",
    "print(products.duplicated().sum())"
   ]
  },
  {
   "cell_type": "code",
   "execution_count": 14,
   "id": "88daa4f4",
   "metadata": {
    "id": "88daa4f4"
   },
   "outputs": [
    {
     "name": "stdout",
     "output_type": "stream",
     "text": [
      "0\n"
     ]
    }
   ],
   "source": [
    "# Revisa únicamente si hay ID de productos duplicados\n",
    "duplicados = products.duplicated(subset='product_id').sum()\n",
    "print(duplicados)\n"
   ]
  },
  {
   "cell_type": "code",
   "execution_count": 15,
   "id": "c773f0bf",
   "metadata": {
    "id": "c773f0bf"
   },
   "outputs": [
    {
     "name": "stdout",
     "output_type": "stream",
     "text": [
      "Número de nombres de productos duplicados: 1361\n"
     ]
    }
   ],
   "source": [
    "# Revisa únicamente si hay nombres duplicados de productos (convierte los nombres a letras mayúsculas para compararlos mejor)\n",
    "\n",
    "products['product_name_upper'] = products['product_name'].str.upper()\n",
    "\n",
    "duplicados_nombres = products['product_name_upper'].duplicated()\n",
    "\n",
    "print('Número de nombres de productos duplicados:', duplicados_nombres.sum())"
   ]
  },
  {
   "cell_type": "code",
   "execution_count": 16,
   "id": "01efd02e",
   "metadata": {
    "id": "01efd02e"
   },
   "outputs": [
    {
     "data": {
      "text/html": [
       "<div>\n",
       "<style scoped>\n",
       "    .dataframe tbody tr th:only-of-type {\n",
       "        vertical-align: middle;\n",
       "    }\n",
       "\n",
       "    .dataframe tbody tr th {\n",
       "        vertical-align: top;\n",
       "    }\n",
       "\n",
       "    .dataframe thead th {\n",
       "        text-align: right;\n",
       "    }\n",
       "</style>\n",
       "<table border=\"1\" class=\"dataframe\">\n",
       "  <thead>\n",
       "    <tr style=\"text-align: right;\">\n",
       "      <th></th>\n",
       "      <th>product_id</th>\n",
       "      <th>product_name</th>\n",
       "      <th>aisle_id</th>\n",
       "      <th>department_id</th>\n",
       "      <th>product_name_upper</th>\n",
       "    </tr>\n",
       "  </thead>\n",
       "  <tbody>\n",
       "    <tr>\n",
       "      <th>2058</th>\n",
       "      <td>2059</td>\n",
       "      <td>Biotin 1000 Mcg</td>\n",
       "      <td>47</td>\n",
       "      <td>11</td>\n",
       "      <td>BIOTIN 1000 MCG</td>\n",
       "    </tr>\n",
       "    <tr>\n",
       "      <th>5455</th>\n",
       "      <td>5456</td>\n",
       "      <td>Green Tea With Ginseng and Honey</td>\n",
       "      <td>96</td>\n",
       "      <td>20</td>\n",
       "      <td>GREEN TEA WITH GINSENG AND HONEY</td>\n",
       "    </tr>\n",
       "    <tr>\n",
       "      <th>5558</th>\n",
       "      <td>5559</td>\n",
       "      <td>Cream Of Mushroom Soup</td>\n",
       "      <td>69</td>\n",
       "      <td>15</td>\n",
       "      <td>CREAM OF MUSHROOM SOUP</td>\n",
       "    </tr>\n",
       "    <tr>\n",
       "      <th>7558</th>\n",
       "      <td>7559</td>\n",
       "      <td>Cinnamon Rolls with Icing</td>\n",
       "      <td>105</td>\n",
       "      <td>13</td>\n",
       "      <td>CINNAMON ROLLS WITH ICING</td>\n",
       "    </tr>\n",
       "    <tr>\n",
       "      <th>9037</th>\n",
       "      <td>9038</td>\n",
       "      <td>American Cheese slices</td>\n",
       "      <td>21</td>\n",
       "      <td>16</td>\n",
       "      <td>AMERICAN CHEESE SLICES</td>\n",
       "    </tr>\n",
       "    <tr>\n",
       "      <th>...</th>\n",
       "      <td>...</td>\n",
       "      <td>...</td>\n",
       "      <td>...</td>\n",
       "      <td>...</td>\n",
       "      <td>...</td>\n",
       "    </tr>\n",
       "    <tr>\n",
       "      <th>49689</th>\n",
       "      <td>49690</td>\n",
       "      <td>HIGH PERFORMANCE ENERGY DRINK</td>\n",
       "      <td>64</td>\n",
       "      <td>7</td>\n",
       "      <td>HIGH PERFORMANCE ENERGY DRINK</td>\n",
       "    </tr>\n",
       "    <tr>\n",
       "      <th>49690</th>\n",
       "      <td>49691</td>\n",
       "      <td>ORIGINAL PANCAKE &amp; WAFFLE MIX</td>\n",
       "      <td>130</td>\n",
       "      <td>14</td>\n",
       "      <td>ORIGINAL PANCAKE &amp; WAFFLE MIX</td>\n",
       "    </tr>\n",
       "    <tr>\n",
       "      <th>49691</th>\n",
       "      <td>49692</td>\n",
       "      <td>ORGANIC INSTANT OATMEAL LIGHT MAPLE BROWN SUGAR</td>\n",
       "      <td>130</td>\n",
       "      <td>14</td>\n",
       "      <td>ORGANIC INSTANT OATMEAL LIGHT MAPLE BROWN SUGAR</td>\n",
       "    </tr>\n",
       "    <tr>\n",
       "      <th>49692</th>\n",
       "      <td>49693</td>\n",
       "      <td>SPRING WATER BODY WASH</td>\n",
       "      <td>127</td>\n",
       "      <td>11</td>\n",
       "      <td>SPRING WATER BODY WASH</td>\n",
       "    </tr>\n",
       "    <tr>\n",
       "      <th>49693</th>\n",
       "      <td>49694</td>\n",
       "      <td>BURRITO- STEAK &amp; CHEESE</td>\n",
       "      <td>38</td>\n",
       "      <td>1</td>\n",
       "      <td>BURRITO- STEAK &amp; CHEESE</td>\n",
       "    </tr>\n",
       "  </tbody>\n",
       "</table>\n",
       "<p>104 rows × 5 columns</p>\n",
       "</div>"
      ],
      "text/plain": [
       "       product_id                                     product_name  aisle_id  \\\n",
       "2058         2059                                  Biotin 1000 Mcg        47   \n",
       "5455         5456                 Green Tea With Ginseng and Honey        96   \n",
       "5558         5559                           Cream Of Mushroom Soup        69   \n",
       "7558         7559                        Cinnamon Rolls with Icing       105   \n",
       "9037         9038                           American Cheese slices        21   \n",
       "...           ...                                              ...       ...   \n",
       "49689       49690                    HIGH PERFORMANCE ENERGY DRINK        64   \n",
       "49690       49691                    ORIGINAL PANCAKE & WAFFLE MIX       130   \n",
       "49691       49692  ORGANIC INSTANT OATMEAL LIGHT MAPLE BROWN SUGAR       130   \n",
       "49692       49693                           SPRING WATER BODY WASH       127   \n",
       "49693       49694                          BURRITO- STEAK & CHEESE        38   \n",
       "\n",
       "       department_id                               product_name_upper  \n",
       "2058              11                                  BIOTIN 1000 MCG  \n",
       "5455              20                 GREEN TEA WITH GINSENG AND HONEY  \n",
       "5558              15                           CREAM OF MUSHROOM SOUP  \n",
       "7558              13                        CINNAMON ROLLS WITH ICING  \n",
       "9037              16                           AMERICAN CHEESE SLICES  \n",
       "...              ...                                              ...  \n",
       "49689              7                    HIGH PERFORMANCE ENERGY DRINK  \n",
       "49690             14                    ORIGINAL PANCAKE & WAFFLE MIX  \n",
       "49691             14  ORGANIC INSTANT OATMEAL LIGHT MAPLE BROWN SUGAR  \n",
       "49692             11                           SPRING WATER BODY WASH  \n",
       "49693              1                          BURRITO- STEAK & CHEESE  \n",
       "\n",
       "[104 rows x 5 columns]"
      ]
     },
     "execution_count": 16,
     "metadata": {},
     "output_type": "execute_result"
    }
   ],
   "source": [
    "# Revisa si hay nombres duplicados de productos no faltantes\n",
    "products[(products['product_name_upper'].duplicated()) & ~(products['product_name_upper'].isna())]"
   ]
  },
  {
   "cell_type": "markdown",
   "id": "9da8d293",
   "metadata": {
    "id": "9da8d293"
   },
   "source": [
    "Describe brevemente tus hallazgos y lo que hiciste con ellos."
   ]
  },
  {
   "cell_type": "markdown",
   "id": "60f30db1",
   "metadata": {
    "id": "60f30db1"
   },
   "source": [
    "### `departments` data frame"
   ]
  },
  {
   "cell_type": "code",
   "execution_count": 17,
   "id": "fb410ad4-0fbf-4b80-bb09-23fdea79afe3",
   "metadata": {
    "id": "fb410ad4-0fbf-4b80-bb09-23fdea79afe3"
   },
   "outputs": [
    {
     "name": "stdout",
     "output_type": "stream",
     "text": [
      "0\n"
     ]
    }
   ],
   "source": [
    "# Revisa si hay filas totalmente duplicadas\n",
    "print(departments.duplicated().sum())"
   ]
  },
  {
   "cell_type": "code",
   "execution_count": 18,
   "id": "332b12bb",
   "metadata": {
    "id": "332b12bb"
   },
   "outputs": [
    {
     "name": "stdout",
     "output_type": "stream",
     "text": [
      "Número de department_id duplicados: 0\n"
     ]
    }
   ],
   "source": [
    "# Revisa únicamente si hay IDs departmentos duplicados\n",
    "duplicados_department_id = departments['department_id'].duplicated()\n",
    "\n",
    "# Contamos cuántos son duplicados\n",
    "print('Número de department_id duplicados:', duplicados_department_id.sum())\n",
    "#departments[departments.duplicated(subset='department_id')]"
   ]
  },
  {
   "cell_type": "markdown",
   "id": "bd30d78e",
   "metadata": {
    "id": "bd30d78e"
   },
   "source": [
    "No hay duplicados por ende no fue necesario eliminar o cambiar algo DF"
   ]
  },
  {
   "cell_type": "markdown",
   "id": "889349c1",
   "metadata": {
    "id": "889349c1"
   },
   "source": [
    "### `aisles` data frame"
   ]
  },
  {
   "cell_type": "code",
   "execution_count": 19,
   "id": "9da89fb9-4679-40f5-ad0d-c34df753a3f8",
   "metadata": {
    "id": "9da89fb9-4679-40f5-ad0d-c34df753a3f8"
   },
   "outputs": [
    {
     "name": "stdout",
     "output_type": "stream",
     "text": [
      "0\n"
     ]
    }
   ],
   "source": [
    "print((aisles.duplicated().sum()))"
   ]
  },
  {
   "cell_type": "code",
   "execution_count": 20,
   "id": "da7c2822",
   "metadata": {
    "id": "da7c2822"
   },
   "outputs": [
    {
     "name": "stdout",
     "output_type": "stream",
     "text": [
      "Número de aisle_id duplicados: 0\n"
     ]
    }
   ],
   "source": [
    "# Revisa únicamente si hay IDs duplicadas de pasillos\n",
    "duplicados_aisle_id = aisles['aisle_id'].duplicated()\n",
    "\n",
    "# Contamos cuántos son duplicados\n",
    "print('Número de aisle_id duplicados:', duplicados_aisle_id.sum())"
   ]
  },
  {
   "cell_type": "markdown",
   "id": "ac63826f",
   "metadata": {
    "id": "ac63826f"
   },
   "source": [
    "No hay duplicados por ende no es necesario cambiar algo del DF\n"
   ]
  },
  {
   "cell_type": "markdown",
   "id": "274cd06a",
   "metadata": {
    "id": "274cd06a"
   },
   "source": [
    "### `order_products` data frame"
   ]
  },
  {
   "cell_type": "code",
   "execution_count": 21,
   "id": "52326689-84a8-4b8f-a881-7c68780f62c9",
   "metadata": {
    "id": "52326689-84a8-4b8f-a881-7c68780f62c9"
   },
   "outputs": [
    {
     "name": "stdout",
     "output_type": "stream",
     "text": [
      "0\n"
     ]
    }
   ],
   "source": [
    "# Revisa si hay filas totalmente duplicadas\n",
    "print((order_products.duplicated().sum()))"
   ]
  },
  {
   "cell_type": "code",
   "execution_count": 22,
   "id": "7b861391",
   "metadata": {
    "id": "7b861391"
   },
   "outputs": [
    {
     "data": {
      "text/plain": [
       "0         False\n",
       "1         False\n",
       "2         False\n",
       "3         False\n",
       "4         False\n",
       "          ...  \n",
       "478962    False\n",
       "478963    False\n",
       "478964    False\n",
       "478965    False\n",
       "478966    False\n",
       "Length: 478967, dtype: bool"
      ]
     },
     "execution_count": 22,
     "metadata": {},
     "output_type": "execute_result"
    }
   ],
   "source": [
    "# Vuelve a verificar si hay cualquier otro duplicado engañoso\n",
    "orders.duplicated(subset='order_id')"
   ]
  },
  {
   "cell_type": "markdown",
   "id": "0b890492",
   "metadata": {
    "id": "0b890492"
   },
   "source": [
    "Los duplicados fueron eliminados "
   ]
  },
  {
   "cell_type": "markdown",
   "id": "1e46de76",
   "metadata": {
    "id": "1e46de76"
   },
   "source": [
    "## Encuentra y elimina los valores ausentes\n",
    "\n",
    "Al trabajar con valores duplicados, pudimos observar que también nos falta investigar valores ausentes:\n",
    "\n",
    "* La columna `'product_name'` de la tabla products.\n",
    "* La columna `'days_since_prior_order'` de la tabla orders.\n",
    "* La columna `'add_to_cart_order'` de la tabla order_productos."
   ]
  },
  {
   "cell_type": "markdown",
   "id": "c0aebd78",
   "metadata": {
    "id": "c0aebd78"
   },
   "source": [
    "### `products` data frame"
   ]
  },
  {
   "cell_type": "code",
   "execution_count": 23,
   "id": "fe4a8b0f",
   "metadata": {
    "id": "fe4a8b0f"
   },
   "outputs": [
    {
     "name": "stdout",
     "output_type": "stream",
     "text": [
      "       product_id product_name  aisle_id  department_id product_name_upper\n",
      "37             38          NaN       100             21                NaN\n",
      "71             72          NaN       100             21                NaN\n",
      "109           110          NaN       100             21                NaN\n",
      "296           297          NaN       100             21                NaN\n",
      "416           417          NaN       100             21                NaN\n",
      "...           ...          ...       ...            ...                ...\n",
      "49552       49553          NaN       100             21                NaN\n",
      "49574       49575          NaN       100             21                NaN\n",
      "49640       49641          NaN       100             21                NaN\n",
      "49663       49664          NaN       100             21                NaN\n",
      "49668       49669          NaN       100             21                NaN\n",
      "\n",
      "[1258 rows x 5 columns]\n"
     ]
    }
   ],
   "source": [
    "# Encuentra los valores ausentes en la columna 'product_name'\n",
    "productos_sin_nombre = products[products['product_name'].isna()]\n",
    "print (productos_sin_nombre)"
   ]
  },
  {
   "cell_type": "markdown",
   "id": "-A6x1AbJhjkp",
   "metadata": {
    "id": "-A6x1AbJhjkp"
   },
   "source": [
    "Tenemos 1258 datos ausentes en la columna product_name y estan relacionados con la columna aisle_id 100 y con el department_id 21"
   ]
  },
  {
   "cell_type": "code",
   "execution_count": 24,
   "id": "e96167bc",
   "metadata": {
    "id": "e96167bc"
   },
   "outputs": [
    {
     "name": "stdout",
     "output_type": "stream",
     "text": [
      "True\n"
     ]
    }
   ],
   "source": [
    "#  ¿Todos los nombres de productos ausentes están relacionados con el pasillo con ID 100?\n",
    "todos_en_aisle_100 = (productos_sin_nombre['aisle_id'] == 100).all()\n",
    "print(todos_en_aisle_100)"
   ]
  },
  {
   "cell_type": "markdown",
   "id": "WRpIfXRphpSL",
   "metadata": {
    "id": "WRpIfXRphpSL"
   },
   "source": [
    "Así es todos los productos faltantes están relacionados con el pasillo 100"
   ]
  },
  {
   "cell_type": "code",
   "execution_count": 25,
   "id": "8fd0a541",
   "metadata": {
    "id": "8fd0a541"
   },
   "outputs": [
    {
     "name": "stdout",
     "output_type": "stream",
     "text": [
      "True\n"
     ]
    }
   ],
   "source": [
    "# ¿Todos los nombres de productos ausentes están relacionados con el departamento con ID 21?\n",
    "todos_en_departamento_21 = (productos_sin_nombre['department_id'] == 21).all()\n",
    "print(todos_en_departamento_21)"
   ]
  },
  {
   "cell_type": "markdown",
   "id": "qDpdYn1Fht_I",
   "metadata": {
    "id": "qDpdYn1Fht_I"
   },
   "source": [
    "Así es todo los faltantes están relacionados con el departamento 21"
   ]
  },
  {
   "cell_type": "code",
   "execution_count": 26,
   "id": "325c3464",
   "metadata": {
    "id": "325c3464"
   },
   "outputs": [
    {
     "name": "stdout",
     "output_type": "stream",
     "text": [
      "Información del pasillo con ID 100:\n",
      "    aisle_id    aisle\n",
      "99       100  missing\n",
      "\n",
      "Información del departamento con ID 21:\n",
      "    department_id department\n",
      "20             21    missing\n"
     ]
    }
   ],
   "source": [
    "# Usa las tablas department y aisle para revisar los datos del pasillo con ID 100 y el departamento con ID 21.\n",
    "print(\"Información del pasillo con ID 100:\")\n",
    "print(aisles[aisles['aisle_id'] == 100])\n",
    "\n",
    "print(\"\\nInformación del departamento con ID 21:\")\n",
    "# Revisar datos del departamento con ID 21\n",
    "print(departments[departments['department_id'] == 21])"
   ]
  },
  {
   "cell_type": "markdown",
   "id": "nqhSTUPhhvEJ",
   "metadata": {
    "id": "nqhSTUPhhvEJ"
   },
   "source": [
    "Describe brevemente cuáles son tus hallazgos."
   ]
  },
  {
   "cell_type": "code",
   "execution_count": 27,
   "id": "6b295120",
   "metadata": {
    "id": "6b295120"
   },
   "outputs": [
    {
     "name": "stdout",
     "output_type": "stream",
     "text": [
      "0\n"
     ]
    }
   ],
   "source": [
    "# Completa los nombres de productos ausentes con 'Unknown'\n",
    "products['product_name'].fillna('Unknown', inplace=True)\n",
    "\n",
    "# Verifica si se completaron correctamente\n",
    "print(products['product_name'].isna().sum()) "
   ]
  },
  {
   "cell_type": "markdown",
   "id": "fc70e5ad",
   "metadata": {
    "id": "fc70e5ad"
   },
   "source": [
    "Describe brevemente tus hallazgos y lo que hiciste con ellos."
   ]
  },
  {
   "cell_type": "markdown",
   "id": "7eb45c86",
   "metadata": {
    "id": "7eb45c86"
   },
   "source": [
    "### `orders` data frame"
   ]
  },
  {
   "cell_type": "code",
   "execution_count": 28,
   "id": "93e41d96",
   "metadata": {
    "id": "93e41d96"
   },
   "outputs": [
    {
     "name": "stdout",
     "output_type": "stream",
     "text": [
      "order_id                      0\n",
      "user_id                       0\n",
      "order_number                  0\n",
      "order_dow                     0\n",
      "order_hour_of_day             0\n",
      "days_since_prior_order    28819\n",
      "dtype: int64\n"
     ]
    }
   ],
   "source": [
    "# Encuentra los valores ausentes\n",
    "print(orders.isna().sum())"
   ]
  },
  {
   "cell_type": "code",
   "execution_count": 29,
   "id": "166e5a86",
   "metadata": {
    "id": "166e5a86"
   },
   "outputs": [
    {
     "name": "stdout",
     "output_type": "stream",
     "text": [
      "order_id                      0\n",
      "user_id                       0\n",
      "order_number                  0\n",
      "order_dow                     0\n",
      "order_hour_of_day             0\n",
      "days_since_prior_order    28819\n",
      "dtype: int64\n"
     ]
    }
   ],
   "source": [
    "# ¿Hay algún valor ausente que no sea el primer pedido del cliente?\n",
    "primeras_ordenes=orders[orders['days_since_prior_order']!=0]\n",
    "print(primeras_ordenes.isna().sum())"
   ]
  },
  {
   "cell_type": "markdown",
   "id": "4e23d089",
   "metadata": {
    "id": "4e23d089"
   },
   "source": [
    "No, ya que todo los valores nulos pertenecen a la primera orden. "
   ]
  },
  {
   "cell_type": "markdown",
   "id": "69dc9ca4",
   "metadata": {
    "id": "69dc9ca4"
   },
   "source": [
    "### `order_products` data frame"
   ]
  },
  {
   "cell_type": "code",
   "execution_count": 30,
   "id": "b8240253",
   "metadata": {
    "id": "b8240253"
   },
   "outputs": [
    {
     "name": "stdout",
     "output_type": "stream",
     "text": [
      "order_id               0\n",
      "product_id             0\n",
      "add_to_cart_order    836\n",
      "reordered              0\n",
      "dtype: int64\n"
     ]
    }
   ],
   "source": [
    "# Encuentra los valores ausentes\n",
    "print(order_products.isna().sum())"
   ]
  },
  {
   "cell_type": "code",
   "execution_count": 31,
   "id": "9a78e5ee",
   "metadata": {
    "id": "9a78e5ee"
   },
   "outputs": [
    {
     "name": "stdout",
     "output_type": "stream",
     "text": [
      "Mínimo: 1.0\n",
      "Máximo: 64.0\n"
     ]
    }
   ],
   "source": [
    "# ¿Cuáles son los valores mínimos y máximos en esta columna?\n",
    "minimo = order_products['add_to_cart_order'].min()\n",
    "maximo = order_products['add_to_cart_order'].max()\n",
    "\n",
    "print(\"Mínimo:\", minimo)\n",
    "print(\"Máximo:\", maximo)"
   ]
  },
  {
   "cell_type": "markdown",
   "id": "-Z2Ja215jW78",
   "metadata": {
    "id": "-Z2Ja215jW78"
   },
   "source": [
    "Solo hay datos ausentes en la columna add_to_cart_order"
   ]
  },
  {
   "cell_type": "code",
   "execution_count": 32,
   "id": "ab9d0c2b",
   "metadata": {
    "id": "ab9d0c2b"
   },
   "outputs": [
    {
     "name": "stdout",
     "output_type": "stream",
     "text": [
      "737        2449164\n",
      "9926       1968313\n",
      "14394      2926893\n",
      "16418      1717990\n",
      "30114      1959075\n",
      "            ...   \n",
      "4505662    1800005\n",
      "4511400    1633337\n",
      "4517562     404157\n",
      "4534112    1673227\n",
      "4535739    1832957\n",
      "Name: order_id, Length: 836, dtype: int64\n"
     ]
    }
   ],
   "source": [
    "# Guarda todas las IDs de pedidos que tengan un valor ausente en 'add_to_cart_order'\n",
    "faltantes_add_to_cart = order_products[order_products['add_to_cart_order'].isna()]\n",
    "\n",
    "# 2. Seleccionamos la columna 'order_id'\n",
    "order_ids_faltantes = faltantes_add_to_cart['order_id']\n",
    "\n",
    "# 3. (Opcional) Si quieres verlo como una lista\n",
    "order_ids_faltantes_list = order_ids_faltantes.tolist()\n",
    "\n",
    "# Imprimir el resultado\n",
    "print(order_ids_faltantes)\n"
   ]
  },
  {
   "cell_type": "code",
   "execution_count": 33,
   "id": "54c31695",
   "metadata": {
    "id": "54c31695"
   },
   "outputs": [
    {
     "name": "stdout",
     "output_type": "stream",
     "text": [
      "1\n"
     ]
    }
   ],
   "source": [
    "# ¿Todos los pedidos con valores ausentes tienen más de 64 productos?\n",
    "# Agrupa todos los pedidos con datos ausentes por su ID de pedido.\n",
    "# Cuenta el número de 'product_id' en cada pedido y revisa el valor mínimo del conteo.\n",
    "faltantes_add_to_cart = order_products[order_products['add_to_cart_order'].isna()]\n",
    "conteo_productos_por_pedido = faltantes_add_to_cart.groupby('order_id')['product_id'].count()\n",
    "min_productos = conteo_productos_por_pedido.min()\n",
    "print(min_productos)"
   ]
  },
  {
   "cell_type": "markdown",
   "id": "p9V6pddtjglj",
   "metadata": {
    "id": "p9V6pddtjglj"
   },
   "source": [
    "Describe brevemente cuáles son tus hallazgos."
   ]
  },
  {
   "cell_type": "code",
   "execution_count": 34,
   "id": "7a987d08",
   "metadata": {
    "id": "7a987d08"
   },
   "outputs": [
    {
     "name": "stdout",
     "output_type": "stream",
     "text": [
      "0\n",
      "int64\n"
     ]
    }
   ],
   "source": [
    "# Remplaza los valores ausentes en la columna 'add_to_cart? con 999 y convierte la columna al tipo entero.\n",
    "order_products['add_to_cart_order'] = order_products['add_to_cart_order'].fillna(999)\n",
    "order_products['add_to_cart_order'] = order_products['add_to_cart_order'].astype('int')\n",
    "print(order_products['add_to_cart_order'].isna().sum())  \n",
    "print(order_products['add_to_cart_order'].dtype)         "
   ]
  },
  {
   "cell_type": "markdown",
   "id": "fea4bcc7",
   "metadata": {
    "id": "fea4bcc7"
   },
   "source": [
    "se sustituyeron los valores con 999 como se había indicado, además de que se convirtió la columna de flotante a entero. "
   ]
  },
  {
   "cell_type": "markdown",
   "id": "RnplPFY1gSrb",
   "metadata": {
    "id": "RnplPFY1gSrb"
   },
   "source": [
    "## Conclusiones\n",
    "\n",
    "Durante el análisis de los DataFrames (orders, departments, order_products), se eliminaron duplicados, se identificaron y corrigieron valores faltantes, y se confirmaron patrones lógicos como la ausencia de days_since_prior_order en primeros pedidos. También se resolvieron inconsistencias relacionadas con nombres de productos faltantes, asociados a IDs de pasillo y departamento \"missing\", reemplazándolos por \"Unknown\". En order_products, se detectaron valores nulos en add_to_cart_order, se agruparon los pedidos afectados, y se corrigieron asignando 999 y convirtiendo el dato a entero. En general, se limpiaron y estandarizaron los datos, dejándolos listos para análisis más avanzados como modelado o visualización de patrones de compra.\n"
   ]
  },
  {
   "cell_type": "markdown",
   "id": "UjrOIwTcz3ri",
   "metadata": {
    "id": "UjrOIwTcz3ri"
   },
   "source": [
    "# Paso 3. Análisis de los datos\n",
    "\n",
    "Una vez los datos estén procesados y listos, haz el siguiente análisis:"
   ]
  },
  {
   "cell_type": "markdown",
   "id": "turkish-kidney",
   "metadata": {
    "id": "turkish-kidney"
   },
   "source": [
    "# [A] Fácil (deben completarse todos para aprobar)\n",
    "\n",
    "1. Verifica que los valores en las columnas `'order_hour_of_day'` y `'order_dow'` en la tabla orders sean razonables (es decir, `'order_hour_of_day'` oscile entre 0 y 23 y `'order_dow'` oscile entre 0 y 6).\n",
    "2. Crea un gráfico que muestre el número de personas que hacen pedidos dependiendo de la hora del día.\n",
    "3. Crea un gráfico que muestre qué día de la semana la gente hace sus compras.\n",
    "4. Crea un gráfico que muestre el tiempo que la gente espera hasta hacer su siguiente pedido, y comenta sobre los valores mínimos y máximos."
   ]
  },
  {
   "cell_type": "markdown",
   "id": "short-capability",
   "metadata": {
    "id": "short-capability"
   },
   "source": [
    "### [A1] Verifica que los valores sean sensibles"
   ]
  },
  {
   "cell_type": "code",
   "execution_count": 35,
   "id": "growing-fruit",
   "metadata": {
    "id": "growing-fruit"
   },
   "outputs": [
    {
     "name": "stdout",
     "output_type": "stream",
     "text": [
      "0\n",
      "23\n"
     ]
    }
   ],
   "source": [
    "print(orders['order_hour_of_day'].min())\n",
    "print(orders['order_hour_of_day'].max())\n"
   ]
  },
  {
   "cell_type": "code",
   "execution_count": 36,
   "id": "accessory-malaysia",
   "metadata": {
    "id": "accessory-malaysia"
   },
   "outputs": [
    {
     "name": "stdout",
     "output_type": "stream",
     "text": [
      "0\n",
      "6\n"
     ]
    }
   ],
   "source": [
    "print(orders['order_dow'].min())\n",
    "print(orders['order_dow'].max())"
   ]
  },
  {
   "cell_type": "markdown",
   "id": "hmR2GNQ6lCsX",
   "metadata": {
    "id": "hmR2GNQ6lCsX"
   },
   "source": [
    "Podemos decir que los valores si son razonables pues se encuentran en los parámetros solicitados. "
   ]
  },
  {
   "cell_type": "markdown",
   "id": "a6743a70",
   "metadata": {
    "id": "a6743a70"
   },
   "source": [
    "### [A2] Para cada hora del día, ¿cuántas personas hacen órdenes?"
   ]
  },
  {
   "cell_type": "code",
   "execution_count": 37,
   "id": "a36cca27",
   "metadata": {
    "id": "a36cca27"
   },
   "outputs": [
    {
     "data": {
      "text/plain": [
       "0      3180\n",
       "1      1763\n",
       "2      1004\n",
       "3       770\n",
       "4       765\n",
       "5      1371\n",
       "6      4215\n",
       "7     13043\n",
       "8     25024\n",
       "9     35896\n",
       "10    40578\n",
       "11    40032\n",
       "12    38034\n",
       "13    39007\n",
       "14    39631\n",
       "15    39789\n",
       "16    38112\n",
       "17    31930\n",
       "18    25510\n",
       "19    19547\n",
       "20    14624\n",
       "21    11019\n",
       "22     8512\n",
       "23     5611\n",
       "Name: order_hour_of_day, dtype: int64"
      ]
     },
     "execution_count": 37,
     "metadata": {},
     "output_type": "execute_result"
    }
   ],
   "source": [
    "pedidos_por_hora = orders['order_hour_of_day'].value_counts().sort_index()\n",
    "pedidos_por_hora\n"
   ]
  },
  {
   "cell_type": "code",
   "execution_count": 38,
   "id": "22caaca0",
   "metadata": {},
   "outputs": [
    {
     "data": {
      "text/plain": [
       "<AxesSubplot:title={'center':'pedidos por hora'}, xlabel='horas del día', ylabel='total de ordenes'>"
      ]
     },
     "execution_count": 38,
     "metadata": {},
     "output_type": "execute_result"
    },
    {
     "data": {
      "image/png": "[encoded data removed]",
      "text/plain": [
       "<Figure size 640x480 with 1 Axes>"
      ]
     },
     "metadata": {},
     "output_type": "display_data"
    }
   ],
   "source": [
    "pedidos_por_hora.plot(title= 'pedidos por hora',kind='bar', xlabel= 'horas del día', ylabel= 'total de ordenes', color= 'red')"
   ]
  },
  {
   "cell_type": "markdown",
   "id": "11270eed",
   "metadata": {
    "id": "11270eed"
   },
   "source": [
    "Que la mayoría de las ventas suceden entre las horas 8 y 17 horas. "
   ]
  },
  {
   "cell_type": "markdown",
   "id": "documented-command",
   "metadata": {
    "id": "documented-command"
   },
   "source": [
    "### [A3] ¿Qué día de la semana compran víveres las personas?"
   ]
  },
  {
   "cell_type": "code",
   "execution_count": 39,
   "id": "chief-digit",
   "metadata": {
    "id": "chief-digit"
   },
   "outputs": [
    {
     "data": {
      "text/plain": [
       "0    84090\n",
       "1    82185\n",
       "2    65833\n",
       "3    60912\n",
       "4    59810\n",
       "5    63488\n",
       "6    62649\n",
       "Name: order_dow, dtype: int64"
      ]
     },
     "execution_count": 39,
     "metadata": {},
     "output_type": "execute_result"
    }
   ],
   "source": [
    "ventas_por_dia = orders['order_dow'].value_counts().sort_index()\n",
    "ventas_por_dia"
   ]
  },
  {
   "cell_type": "code",
   "execution_count": 40,
   "id": "3b7cb402",
   "metadata": {},
   "outputs": [
    {
     "data": {
      "text/plain": [
       "<AxesSubplot:title={'center':'ventas por día'}, xlabel='días de la semana', ylabel='total de ordenes'>"
      ]
     },
     "execution_count": 40,
     "metadata": {},
     "output_type": "execute_result"
    },
    {
     "data": {
      "image/png": "[encoded data removed]",
      "text/plain": [
       "<Figure size 640x480 with 1 Axes>"
      ]
     },
     "metadata": {},
     "output_type": "display_data"
    }
   ],
   "source": [
    "ventas_por_dia.plot(title= 'ventas por día', kind= 'bar', xlabel='días de la semana', ylabel= 'total de ordenes')"
   ]
  },
  {
   "cell_type": "markdown",
   "id": "dominant-lightning",
   "metadata": {
    "id": "dominant-lightning"
   },
   "source": [
    "Los días que mas consumen los clientes son los domingos y lunes, en cambio baja las ventas los días miercoles y jueves. "
   ]
  },
  {
   "cell_type": "markdown",
   "id": "cutting-concert",
   "metadata": {
    "id": "cutting-concert"
   },
   "source": [
    "### [A4] ¿Cuánto tiempo esperan las personas hasta hacer otro pedido? Comenta sobre los valores mínimos y máximos."
   ]
  },
  {
   "cell_type": "code",
   "execution_count": 77,
   "id": "c231f523",
   "metadata": {
    "id": "c231f523"
   },
   "outputs": [
    {
     "data": {
      "text/plain": [
       "0.0      9589\n",
       "1.0     20179\n",
       "2.0     27141\n",
       "3.0     30225\n",
       "4.0     31007\n",
       "5.0     30096\n",
       "6.0     33931\n",
       "7.0     44579\n",
       "8.0     25361\n",
       "9.0     16754\n",
       "10.0    13310\n",
       "11.0    11467\n",
       "12.0    10658\n",
       "13.0    11737\n",
       "14.0    13992\n",
       "15.0     9416\n",
       "16.0     6588\n",
       "17.0     5498\n",
       "18.0     4972\n",
       "19.0     4939\n",
       "20.0     5302\n",
       "21.0     6448\n",
       "22.0     4514\n",
       "23.0     3337\n",
       "24.0     3015\n",
       "25.0     2711\n",
       "26.0     2640\n",
       "27.0     2986\n",
       "28.0     3745\n",
       "29.0     2673\n",
       "30.0    51338\n",
       "Name: days_since_prior_order, dtype: int64"
      ]
     },
     "execution_count": 77,
     "metadata": {},
     "output_type": "execute_result"
    }
   ],
   "source": [
    "tiempo_de_espera= orders['days_since_prior_order'].value_counts().sort_index()\n",
    "tiempo_de_espera\n"
   ]
  },
  {
   "cell_type": "code",
   "execution_count": 42,
   "id": "41740e96",
   "metadata": {},
   "outputs": [
    {
     "data": {
      "text/plain": [
       "<AxesSubplot:title={'center':'tiempo de espera hasta hacer otro pedido'}, xlabel='días', ylabel='total de ordenes'>"
      ]
     },
     "execution_count": 42,
     "metadata": {},
     "output_type": "execute_result"
    },
    {
     "data": {
      "image/png": "[encoded data removed]",
      "text/plain": [
       "<Figure size 640x480 with 1 Axes>"
      ]
     },
     "metadata": {},
     "output_type": "display_data"
    }
   ],
   "source": [
    "tiempo_de_espera.plot(title= 'tiempo de espera hasta hacer otro pedido', kind= 'bar', xlabel='días', ylabel= 'total de ordenes', color='green')"
   ]
  },
  {
   "cell_type": "markdown",
   "id": "discrete-vertex",
   "metadata": {
    "id": "discrete-vertex"
   },
   "source": [
    "Se puede ver que el valor mínimo es 25 y el máximo 30, la mayoría de las personas piensan hacer su pedido hasta el día 30, mientras que el mínimo es 26"
   ]
  },
  {
   "cell_type": "markdown",
   "id": "tight-staff",
   "metadata": {
    "id": "tight-staff"
   },
   "source": [
    "# [B] Intermedio (deben completarse todos para aprobar)\n",
    "\n",
    "1. ¿Existe alguna diferencia entre las distribuciones `'order_hour_of_day'` de los miércoles y los sábados? Traza gráficos de barra de `'order_hour_of_day'` para ambos días en la misma figura y describe las diferencias que observes.\n",
    "2. Grafica la distribución para el número de órdenes que hacen los clientes (es decir, cuántos clientes hicieron solo 1 pedido, cuántos hicieron 2, cuántos 3, y así sucesivamente...).\n",
    "3. ¿Cuáles son los 20 principales productos que se piden con más frecuencia (muestra su identificación y nombre)?"
   ]
  },
  {
   "cell_type": "markdown",
   "id": "packed-classic",
   "metadata": {
    "id": "packed-classic"
   },
   "source": [
    "### [B1] Diferencia entre miércoles y sábados para  `'order_hour_of_day'`. Traza gráficos de barra para los dos días y describe las diferencias que veas."
   ]
  },
  {
   "cell_type": "code",
   "execution_count": 43,
   "id": "d89b8403",
   "metadata": {
    "id": "d89b8403"
   },
   "outputs": [],
   "source": [
    "wed = orders[orders['order_dow'] == 3]\n",
    "sat = orders[orders['order_dow'] == 5]"
   ]
  },
  {
   "cell_type": "code",
   "execution_count": 44,
   "id": "94e54e8a",
   "metadata": {
    "id": "94e54e8a"
   },
   "outputs": [],
   "source": [
    "# Contar pedidos por hora\n",
    "wed_counts = wed['order_hour_of_day'].value_counts().sort_index()\n",
    "sat_counts = sat['order_hour_of_day'].value_counts().sort_index()\n"
   ]
  },
  {
   "cell_type": "code",
   "execution_count": 45,
   "id": "797c90a8",
   "metadata": {
    "id": "797c90a8"
   },
   "outputs": [],
   "source": [
    "# Crear DataFrame combinado\n",
    "df = pd.DataFrame({\n",
    "    'Miércoles': wed_counts,\n",
    "    'Sábado': sat_counts\n",
    "}).fillna(0)"
   ]
  },
  {
   "cell_type": "code",
   "execution_count": 46,
   "id": "35bcea30",
   "metadata": {
    "id": "35bcea30"
   },
   "outputs": [
    {
     "data": {
      "image/png": "[encoded data removed]",
      "text/plain": [
       "<Figure size 1200x500 with 1 Axes>"
      ]
     },
     "metadata": {},
     "output_type": "display_data"
    }
   ],
   "source": [
    "# Graficar barras agrupadas\n",
    "df.plot(kind='bar', figsize=(12, 5))\n",
    "plt.title('Pedidos por hora del día (Miércoles vs Sábado)')\n",
    "plt.xlabel('Hora del día')\n",
    "plt.ylabel('Número de pedidos')\n",
    "plt.xticks(rotation=0)\n",
    "plt.legend()\n",
    "plt.tight_layout()\n",
    "plt.show()"
   ]
  },
  {
   "cell_type": "markdown",
   "id": "charitable-congo",
   "metadata": {
    "id": "charitable-congo"
   },
   "source": [
    "Se puede observar que la mayoría de los pedidos se hacen entre las horas 7 a las 23 horas, los días sabado son mas solicitados que los miercoles. "
   ]
  },
  {
   "cell_type": "markdown",
   "id": "e3891143",
   "metadata": {
    "id": "e3891143"
   },
   "source": [
    "### [B2] ¿Cuál es la distribución para el número de pedidos por cliente?"
   ]
  },
  {
   "cell_type": "code",
   "execution_count": 81,
   "id": "d950bc61",
   "metadata": {},
   "outputs": [],
   "source": [
    "order_counts = orders.groupby('user_id')['order_number'].max()\n",
    "distribucion = order_counts.value_counts().sort_index()"
   ]
  },
  {
   "cell_type": "code",
   "execution_count": 82,
   "id": "d8c26c23",
   "metadata": {
    "id": "d8c26c23"
   },
   "outputs": [
    {
     "data": {
      "image/png": "[encoded data removed]",
      "text/plain": [
       "<Figure size 1200x500 with 1 Axes>"
      ]
     },
     "metadata": {},
     "output_type": "display_data"
    }
   ],
   "source": [
    "order_counts.value_counts().sort_index().plot(kind='hist', figsize=(12,5), color='skyblue')\n",
    "plt.title('Número de pedidos por cliente')\n",
    "plt.xlabel('Cantidad de pedidos')\n",
    "plt.ylabel('Número de clientes')\n",
    "plt.show()"
   ]
  },
  {
   "cell_type": "markdown",
   "id": "d2eff7d5",
   "metadata": {
    "id": "d2eff7d5"
   },
   "source": [
    "La mayoría de los clientes realizan pocos pedidos, mientras que solo unos pocos son responsables de una gran cantidad de ellos."
   ]
  },
  {
   "cell_type": "markdown",
   "id": "54a0319c",
   "metadata": {
    "id": "54a0319c"
   },
   "source": [
    "### [B3] ¿Cuáles son los 20 productos más populares (muestra su ID y nombre)?"
   ]
  },
  {
   "cell_type": "code",
   "execution_count": 48,
   "id": "exterior-arizona",
   "metadata": {
    "id": "exterior-arizona",
    "scrolled": true
   },
   "outputs": [],
   "source": [
    "top_products = (\n",
    "    order_products['product_id']\n",
    "    .value_counts()\n",
    "    .head(20)\n",
    "    .reset_index()\n",
    "    .rename(columns={'index': 'product_id', 'product_id': 'count'})\n",
    ")"
   ]
  },
  {
   "cell_type": "code",
   "execution_count": 49,
   "id": "universal-facial",
   "metadata": {
    "id": "universal-facial"
   },
   "outputs": [],
   "source": [
    "top_products = top_products.merge(products[['product_id', 'product_name']], on='product_id', how='left')"
   ]
  },
  {
   "cell_type": "code",
   "execution_count": 50,
   "id": "bbcdd20b",
   "metadata": {
    "id": "bbcdd20b"
   },
   "outputs": [
    {
     "data": {
      "image/png": "[encoded data removed]",
      "text/plain": [
       "<Figure size 1000x800 with 1 Axes>"
      ]
     },
     "metadata": {},
     "output_type": "display_data"
    }
   ],
   "source": [
    "top_products.sort_values('count').plot(\n",
    "    kind='barh', x='product_name', y='count', figsize=(10, 8), color='seagreen'\n",
    ")\n",
    "plt.title('Top 20 productos más pedidos')\n",
    "plt.xlabel('Número de veces pedidos')\n",
    "plt.ylabel('Producto')\n",
    "plt.tight_layout()\n",
    "plt.show()\n"
   ]
  },
  {
   "cell_type": "markdown",
   "id": "7df00f47",
   "metadata": {
    "id": "7df00f47"
   },
   "source": [
    "Se puede ver que las bananas son de los productos mas consumidos por las personas, podemos observar que la mayoría de los productos más consumidos son las frutas y vegetales. "
   ]
  },
  {
   "cell_type": "markdown",
   "id": "gross-theme",
   "metadata": {
    "id": "gross-theme"
   },
   "source": [
    "# [C] Difícil (deben completarse todos para aprobar)\n",
    "\n",
    "1. ¿Cuántos artículos suelen comprar las personas en un pedido? ¿Cómo es la distribución?\n",
    "2. ¿Cuáles son los 20 principales artículos que vuelven a pedirse con mayor frecuencia (muestra sus nombres e IDs de los productos)?\n",
    "3. Para cada producto, ¿cuál es la tasa de repetición del pedido (número de repeticiones de pedido/total de pedidos?\n",
    "4. Para cada cliente, ¿qué proporción de los productos que pidió ya los había pedido? Calcula la tasa de repetición de pedido para cada usuario en lugar de para cada producto.\n",
    "5. ¿Cuáles son los 20 principales artículos que la gente pone primero en sus carritos (muestra las IDs de los productos, sus nombres, y el número de veces en que fueron el primer artículo en añadirse al carrito)?"
   ]
  },
  {
   "cell_type": "markdown",
   "id": "romantic-deposit",
   "metadata": {
    "id": "romantic-deposit"
   },
   "source": [
    "### [C1] ¿Cuántos artículos compran normalmente las personas en un pedido? ¿Cómo es la distribución?"
   ]
  },
  {
   "cell_type": "code",
   "execution_count": 51,
   "id": "virtual-punch",
   "metadata": {
    "id": "virtual-punch"
   },
   "outputs": [
    {
     "data": {
      "text/plain": [
       "10.098983215049127"
      ]
     },
     "execution_count": 51,
     "metadata": {},
     "output_type": "execute_result"
    }
   ],
   "source": [
    "articulos_comprados =order_products.groupby('order_id')['product_id'].count()\n",
    "articulos_comprados.mean()"
   ]
  },
  {
   "cell_type": "code",
   "execution_count": 52,
   "id": "28820935",
   "metadata": {},
   "outputs": [
    {
     "name": "stdout",
     "output_type": "stream",
     "text": [
      "order_id\n",
      "4          13\n",
      "9          15\n",
      "11          5\n",
      "19          3\n",
      "20          8\n",
      "           ..\n",
      "3421034    17\n",
      "3421053     9\n",
      "3421071     5\n",
      "3421077     4\n",
      "3421079     1\n",
      "Name: product_id, Length: 450046, dtype: int64\n"
     ]
    }
   ],
   "source": [
    "print(articulos_comprados )"
   ]
  },
  {
   "cell_type": "code",
   "execution_count": 53,
   "id": "2596c5a8",
   "metadata": {},
   "outputs": [
    {
     "data": {
      "image/png": "[encoded data removed]",
      "text/plain": [
       "<Figure size 640x480 with 1 Axes>"
      ]
     },
     "metadata": {},
     "output_type": "display_data"
    }
   ],
   "source": [
    "plt.hist(articulos_comprados)\n",
    "plt.title('Distribución de artículos comprados')\n",
    "plt.xlabel('Cantidad de artículos')\n",
    "plt.ylabel('Ordenes')\n",
    "plt.show()"
   ]
  },
  {
   "cell_type": "markdown",
   "id": "designed-mortality",
   "metadata": {
    "id": "designed-mortality"
   },
   "source": [
    "El promedio de los articulos que se compran son 10, pero se puede ver que la mayoría de las personas compran de 20 a 40 artículos. "
   ]
  },
  {
   "cell_type": "markdown",
   "id": "5e6b5537",
   "metadata": {
    "id": "5e6b5537"
   },
   "source": [
    "### [C2] ¿Cuáles son los 20 principales artículos que vuelven a pedirse con mayor frecuencia (muestra sus nombres e IDs de los productos)?"
   ]
  },
  {
   "cell_type": "code",
   "execution_count": 57,
   "id": "55822c6b",
   "metadata": {},
   "outputs": [
    {
     "data": {
      "text/html": [
       "<div>\n",
       "<style scoped>\n",
       "    .dataframe tbody tr th:only-of-type {\n",
       "        vertical-align: middle;\n",
       "    }\n",
       "\n",
       "    .dataframe tbody tr th {\n",
       "        vertical-align: top;\n",
       "    }\n",
       "\n",
       "    .dataframe thead th {\n",
       "        text-align: right;\n",
       "    }\n",
       "</style>\n",
       "<table border=\"1\" class=\"dataframe\">\n",
       "  <thead>\n",
       "    <tr style=\"text-align: right;\">\n",
       "      <th></th>\n",
       "      <th>product_id</th>\n",
       "      <th>product_name</th>\n",
       "      <th>aisle_id</th>\n",
       "      <th>department_id</th>\n",
       "      <th>product_name_upper</th>\n",
       "      <th>order_id</th>\n",
       "      <th>add_to_cart_order</th>\n",
       "      <th>reordered</th>\n",
       "    </tr>\n",
       "  </thead>\n",
       "  <tbody>\n",
       "    <tr>\n",
       "      <th>0</th>\n",
       "      <td>1</td>\n",
       "      <td>Chocolate Sandwich Cookies</td>\n",
       "      <td>61</td>\n",
       "      <td>19</td>\n",
       "      <td>CHOCOLATE SANDWICH COOKIES</td>\n",
       "      <td>1104373</td>\n",
       "      <td>11</td>\n",
       "      <td>1</td>\n",
       "    </tr>\n",
       "    <tr>\n",
       "      <th>1</th>\n",
       "      <td>1</td>\n",
       "      <td>Chocolate Sandwich Cookies</td>\n",
       "      <td>61</td>\n",
       "      <td>19</td>\n",
       "      <td>CHOCOLATE SANDWICH COOKIES</td>\n",
       "      <td>1774977</td>\n",
       "      <td>4</td>\n",
       "      <td>1</td>\n",
       "    </tr>\n",
       "    <tr>\n",
       "      <th>2</th>\n",
       "      <td>1</td>\n",
       "      <td>Chocolate Sandwich Cookies</td>\n",
       "      <td>61</td>\n",
       "      <td>19</td>\n",
       "      <td>CHOCOLATE SANDWICH COOKIES</td>\n",
       "      <td>652770</td>\n",
       "      <td>10</td>\n",
       "      <td>0</td>\n",
       "    </tr>\n",
       "    <tr>\n",
       "      <th>3</th>\n",
       "      <td>1</td>\n",
       "      <td>Chocolate Sandwich Cookies</td>\n",
       "      <td>61</td>\n",
       "      <td>19</td>\n",
       "      <td>CHOCOLATE SANDWICH COOKIES</td>\n",
       "      <td>1000035</td>\n",
       "      <td>6</td>\n",
       "      <td>1</td>\n",
       "    </tr>\n",
       "    <tr>\n",
       "      <th>4</th>\n",
       "      <td>1</td>\n",
       "      <td>Chocolate Sandwich Cookies</td>\n",
       "      <td>61</td>\n",
       "      <td>19</td>\n",
       "      <td>CHOCOLATE SANDWICH COOKIES</td>\n",
       "      <td>1679949</td>\n",
       "      <td>9</td>\n",
       "      <td>0</td>\n",
       "    </tr>\n",
       "    <tr>\n",
       "      <th>...</th>\n",
       "      <td>...</td>\n",
       "      <td>...</td>\n",
       "      <td>...</td>\n",
       "      <td>...</td>\n",
       "      <td>...</td>\n",
       "      <td>...</td>\n",
       "      <td>...</td>\n",
       "      <td>...</td>\n",
       "    </tr>\n",
       "    <tr>\n",
       "      <th>4545002</th>\n",
       "      <td>49694</td>\n",
       "      <td>BURRITO- STEAK &amp; CHEESE</td>\n",
       "      <td>38</td>\n",
       "      <td>1</td>\n",
       "      <td>BURRITO- STEAK &amp; CHEESE</td>\n",
       "      <td>3034802</td>\n",
       "      <td>10</td>\n",
       "      <td>0</td>\n",
       "    </tr>\n",
       "    <tr>\n",
       "      <th>4545003</th>\n",
       "      <td>49694</td>\n",
       "      <td>BURRITO- STEAK &amp; CHEESE</td>\n",
       "      <td>38</td>\n",
       "      <td>1</td>\n",
       "      <td>BURRITO- STEAK &amp; CHEESE</td>\n",
       "      <td>3175081</td>\n",
       "      <td>3</td>\n",
       "      <td>0</td>\n",
       "    </tr>\n",
       "    <tr>\n",
       "      <th>4545004</th>\n",
       "      <td>49694</td>\n",
       "      <td>BURRITO- STEAK &amp; CHEESE</td>\n",
       "      <td>38</td>\n",
       "      <td>1</td>\n",
       "      <td>BURRITO- STEAK &amp; CHEESE</td>\n",
       "      <td>694132</td>\n",
       "      <td>2</td>\n",
       "      <td>0</td>\n",
       "    </tr>\n",
       "    <tr>\n",
       "      <th>4545005</th>\n",
       "      <td>49694</td>\n",
       "      <td>BURRITO- STEAK &amp; CHEESE</td>\n",
       "      <td>38</td>\n",
       "      <td>1</td>\n",
       "      <td>BURRITO- STEAK &amp; CHEESE</td>\n",
       "      <td>2843165</td>\n",
       "      <td>5</td>\n",
       "      <td>0</td>\n",
       "    </tr>\n",
       "    <tr>\n",
       "      <th>4545006</th>\n",
       "      <td>49694</td>\n",
       "      <td>BURRITO- STEAK &amp; CHEESE</td>\n",
       "      <td>38</td>\n",
       "      <td>1</td>\n",
       "      <td>BURRITO- STEAK &amp; CHEESE</td>\n",
       "      <td>2077154</td>\n",
       "      <td>12</td>\n",
       "      <td>0</td>\n",
       "    </tr>\n",
       "  </tbody>\n",
       "</table>\n",
       "<p>4545007 rows × 8 columns</p>\n",
       "</div>"
      ],
      "text/plain": [
       "         product_id                product_name  aisle_id  department_id  \\\n",
       "0                 1  Chocolate Sandwich Cookies        61             19   \n",
       "1                 1  Chocolate Sandwich Cookies        61             19   \n",
       "2                 1  Chocolate Sandwich Cookies        61             19   \n",
       "3                 1  Chocolate Sandwich Cookies        61             19   \n",
       "4                 1  Chocolate Sandwich Cookies        61             19   \n",
       "...             ...                         ...       ...            ...   \n",
       "4545002       49694     BURRITO- STEAK & CHEESE        38              1   \n",
       "4545003       49694     BURRITO- STEAK & CHEESE        38              1   \n",
       "4545004       49694     BURRITO- STEAK & CHEESE        38              1   \n",
       "4545005       49694     BURRITO- STEAK & CHEESE        38              1   \n",
       "4545006       49694     BURRITO- STEAK & CHEESE        38              1   \n",
       "\n",
       "                 product_name_upper  order_id  add_to_cart_order  reordered  \n",
       "0        CHOCOLATE SANDWICH COOKIES   1104373                 11          1  \n",
       "1        CHOCOLATE SANDWICH COOKIES   1774977                  4          1  \n",
       "2        CHOCOLATE SANDWICH COOKIES    652770                 10          0  \n",
       "3        CHOCOLATE SANDWICH COOKIES   1000035                  6          1  \n",
       "4        CHOCOLATE SANDWICH COOKIES   1679949                  9          0  \n",
       "...                             ...       ...                ...        ...  \n",
       "4545002     BURRITO- STEAK & CHEESE   3034802                 10          0  \n",
       "4545003     BURRITO- STEAK & CHEESE   3175081                  3          0  \n",
       "4545004     BURRITO- STEAK & CHEESE    694132                  2          0  \n",
       "4545005     BURRITO- STEAK & CHEESE   2843165                  5          0  \n",
       "4545006     BURRITO- STEAK & CHEESE   2077154                 12          0  \n",
       "\n",
       "[4545007 rows x 8 columns]"
      ]
     },
     "execution_count": 57,
     "metadata": {},
     "output_type": "execute_result"
    }
   ],
   "source": [
    "products.merge(order_products,on ='product_id')"
   ]
  },
  {
   "cell_type": "code",
   "execution_count": 58,
   "id": "9374e55a",
   "metadata": {
    "id": "9374e55a"
   },
   "outputs": [],
   "source": [
    "articulos_mas_comprados = order_products.groupby('product_id')['reordered'].sum().reset_index()"
   ]
  },
  {
   "cell_type": "code",
   "execution_count": 59,
   "id": "possible-change",
   "metadata": {
    "id": "possible-change",
    "scrolled": true
   },
   "outputs": [],
   "source": [
    "articulos_nombrados= articulos_mas_comprados.merge(products[['product_id','product_name']], on='product_id', how='left')"
   ]
  },
  {
   "cell_type": "code",
   "execution_count": 60,
   "id": "professional-surfing",
   "metadata": {
    "id": "professional-surfing",
    "scrolled": true
   },
   "outputs": [
    {
     "data": {
      "text/html": [
       "<div>\n",
       "<style scoped>\n",
       "    .dataframe tbody tr th:only-of-type {\n",
       "        vertical-align: middle;\n",
       "    }\n",
       "\n",
       "    .dataframe tbody tr th {\n",
       "        vertical-align: top;\n",
       "    }\n",
       "\n",
       "    .dataframe thead th {\n",
       "        text-align: right;\n",
       "    }\n",
       "</style>\n",
       "<table border=\"1\" class=\"dataframe\">\n",
       "  <thead>\n",
       "    <tr style=\"text-align: right;\">\n",
       "      <th></th>\n",
       "      <th>product_id</th>\n",
       "      <th>reordered</th>\n",
       "      <th>product_name</th>\n",
       "    </tr>\n",
       "  </thead>\n",
       "  <tbody>\n",
       "    <tr>\n",
       "      <th>22808</th>\n",
       "      <td>24852</td>\n",
       "      <td>55763</td>\n",
       "      <td>Banana</td>\n",
       "    </tr>\n",
       "    <tr>\n",
       "      <th>12025</th>\n",
       "      <td>13176</td>\n",
       "      <td>44450</td>\n",
       "      <td>Bag of Organic Bananas</td>\n",
       "    </tr>\n",
       "    <tr>\n",
       "      <th>19370</th>\n",
       "      <td>21137</td>\n",
       "      <td>28639</td>\n",
       "      <td>Organic Strawberries</td>\n",
       "    </tr>\n",
       "    <tr>\n",
       "      <th>20077</th>\n",
       "      <td>21903</td>\n",
       "      <td>26233</td>\n",
       "      <td>Organic Baby Spinach</td>\n",
       "    </tr>\n",
       "    <tr>\n",
       "      <th>43271</th>\n",
       "      <td>47209</td>\n",
       "      <td>23629</td>\n",
       "      <td>Organic Hass Avocado</td>\n",
       "    </tr>\n",
       "    <tr>\n",
       "      <th>43788</th>\n",
       "      <td>47766</td>\n",
       "      <td>18743</td>\n",
       "      <td>Organic Avocado</td>\n",
       "    </tr>\n",
       "    <tr>\n",
       "      <th>25556</th>\n",
       "      <td>27845</td>\n",
       "      <td>16251</td>\n",
       "      <td>Organic Whole Milk</td>\n",
       "    </tr>\n",
       "    <tr>\n",
       "      <th>43663</th>\n",
       "      <td>47626</td>\n",
       "      <td>15044</td>\n",
       "      <td>Large Lemon</td>\n",
       "    </tr>\n",
       "    <tr>\n",
       "      <th>25666</th>\n",
       "      <td>27966</td>\n",
       "      <td>14748</td>\n",
       "      <td>Organic Raspberries</td>\n",
       "    </tr>\n",
       "    <tr>\n",
       "      <th>15364</th>\n",
       "      <td>16797</td>\n",
       "      <td>13945</td>\n",
       "      <td>Strawberries</td>\n",
       "    </tr>\n",
       "    <tr>\n",
       "      <th>24047</th>\n",
       "      <td>26209</td>\n",
       "      <td>13327</td>\n",
       "      <td>Limes</td>\n",
       "    </tr>\n",
       "    <tr>\n",
       "      <th>21025</th>\n",
       "      <td>22935</td>\n",
       "      <td>11145</td>\n",
       "      <td>Organic Yellow Onion</td>\n",
       "    </tr>\n",
       "    <tr>\n",
       "      <th>22908</th>\n",
       "      <td>24964</td>\n",
       "      <td>10411</td>\n",
       "      <td>Organic Garlic</td>\n",
       "    </tr>\n",
       "    <tr>\n",
       "      <th>41244</th>\n",
       "      <td>45007</td>\n",
       "      <td>10076</td>\n",
       "      <td>Organic Zucchini</td>\n",
       "    </tr>\n",
       "    <tr>\n",
       "      <th>45561</th>\n",
       "      <td>49683</td>\n",
       "      <td>9538</td>\n",
       "      <td>Cucumber Kirby</td>\n",
       "    </tr>\n",
       "    <tr>\n",
       "      <th>25889</th>\n",
       "      <td>28204</td>\n",
       "      <td>8989</td>\n",
       "      <td>Organic Fuji Apple</td>\n",
       "    </tr>\n",
       "    <tr>\n",
       "      <th>7543</th>\n",
       "      <td>8277</td>\n",
       "      <td>8836</td>\n",
       "      <td>Apple Honeycrisp Organic</td>\n",
       "    </tr>\n",
       "    <tr>\n",
       "      <th>35996</th>\n",
       "      <td>39275</td>\n",
       "      <td>8799</td>\n",
       "      <td>Organic Blueberries</td>\n",
       "    </tr>\n",
       "    <tr>\n",
       "      <th>5375</th>\n",
       "      <td>5876</td>\n",
       "      <td>8412</td>\n",
       "      <td>Organic Lemon</td>\n",
       "    </tr>\n",
       "    <tr>\n",
       "      <th>45155</th>\n",
       "      <td>49235</td>\n",
       "      <td>8389</td>\n",
       "      <td>Organic Half &amp; Half</td>\n",
       "    </tr>\n",
       "  </tbody>\n",
       "</table>\n",
       "</div>"
      ],
      "text/plain": [
       "       product_id  reordered              product_name\n",
       "22808       24852      55763                    Banana\n",
       "12025       13176      44450    Bag of Organic Bananas\n",
       "19370       21137      28639      Organic Strawberries\n",
       "20077       21903      26233      Organic Baby Spinach\n",
       "43271       47209      23629      Organic Hass Avocado\n",
       "43788       47766      18743           Organic Avocado\n",
       "25556       27845      16251        Organic Whole Milk\n",
       "43663       47626      15044               Large Lemon\n",
       "25666       27966      14748       Organic Raspberries\n",
       "15364       16797      13945              Strawberries\n",
       "24047       26209      13327                     Limes\n",
       "21025       22935      11145      Organic Yellow Onion\n",
       "22908       24964      10411            Organic Garlic\n",
       "41244       45007      10076          Organic Zucchini\n",
       "45561       49683       9538            Cucumber Kirby\n",
       "25889       28204       8989        Organic Fuji Apple\n",
       "7543         8277       8836  Apple Honeycrisp Organic\n",
       "35996       39275       8799       Organic Blueberries\n",
       "5375         5876       8412             Organic Lemon\n",
       "45155       49235       8389       Organic Half & Half"
      ]
     },
     "execution_count": 60,
     "metadata": {},
     "output_type": "execute_result"
    }
   ],
   "source": [
    "articulos_nombrados.sort_values('reordered',ascending=False).head(20)"
   ]
  },
  {
   "cell_type": "markdown",
   "id": "80e70c74",
   "metadata": {
    "id": "80e70c74"
   },
   "source": [
    "Para resolver este caso, tuvimos que estraer los id de los productos y los productos que se habian reordenados, para despues fusionarlos con el data frame de productos, ya que este documento poseía los nombres de los productos, por lo tanto solo tuvimos que fusionar tomando en base a la columna product_name. "
   ]
  },
  {
   "cell_type": "markdown",
   "id": "9d312b14",
   "metadata": {
    "id": "9d312b14"
   },
   "source": [
    "### [C3] Para cada producto, ¿cuál es la proporción de las veces que se pide y que se vuelve a pedir?"
   ]
  },
  {
   "cell_type": "code",
   "execution_count": 74,
   "id": "a8b95d0c",
   "metadata": {},
   "outputs": [],
   "source": [
    "tabla_nueva= products.merge(order_products, on='product_id')"
   ]
  },
  {
   "cell_type": "code",
   "execution_count": 75,
   "id": "8ae9f4b1",
   "metadata": {
    "id": "8ae9f4b1"
   },
   "outputs": [
    {
     "data": {
      "text/plain": [
       "product_id  product_name                                                        \n",
       "14721       Bone Strength Take Care                                                 1.0\n",
       "20949       Vanilla Sandwich Cookies                                                1.0\n",
       "6723        Palmiers- Petite                                                        1.0\n",
       "6732        Naturally Sparkling Mineral Water                                       1.0\n",
       "45088       California Dill Pollen & Garlic Goat Cheese & Olive Oil Infusion        1.0\n",
       "45078       Pomegranatea                                                            1.0\n",
       "21016       Parchment Lined 8 in x 3.75 in x 2.5 in Pans                            1.0\n",
       "21005       Peanut Butter Pie Ice Cream                                             1.0\n",
       "35192       Chocolate Soy Milk Singles                                              1.0\n",
       "35197       Mocha Chocolate Chip  Organic Non-Dairy Frozen Dessert                  1.0\n",
       "6810        Raspberry Goji Paleo Prints                                             1.0\n",
       "45040       Head Lock Mega Gel                                                      1.0\n",
       "45035       Coffee Flavor Yogurt                                                    1.0\n",
       "27373       Meat Loaf Meal                                                          1.0\n",
       "30748       Cheese & Garlic Croutons                                                1.0\n",
       "45031       Sugar Free Hazelnut Coffee Creamer                                      1.0\n",
       "35137       Superior Preference Fade-Defying Color + Shine System - 3 Soft Black    1.0\n",
       "30747       Dentotape® Unflavored Waxed Tape                                        1.0\n",
       "35228       Marvelous Muffins Baking Mix                                            1.0\n",
       "35229       Bean & Cheese Burritos                                                  1.0\n",
       "Name: reordered, dtype: float64"
      ]
     },
     "execution_count": 75,
     "metadata": {},
     "output_type": "execute_result"
    }
   ],
   "source": [
    "tabla_nueva.groupby(['product_id','product_name'])['reordered'].mean().sort_values(ascending=False).head(20)"
   ]
  },
  {
   "cell_type": "markdown",
   "id": "I10dEIAyldcO",
   "metadata": {
    "id": "I10dEIAyldcO"
   },
   "source": [
    "Se puede observar que hay una fidelidad a muchos porductos pues la tasa de reordenamientos es de 100 y que hay una diversidad de productos pues no hay uno solo que encabece la lista. "
   ]
  },
  {
   "cell_type": "markdown",
   "id": "subject-boxing",
   "metadata": {
    "id": "subject-boxing"
   },
   "source": [
    "### [C4] Para cada cliente, ¿qué proporción de sus productos ya los había pedido?"
   ]
  },
  {
   "cell_type": "code",
   "execution_count": 83,
   "id": "medical-couple",
   "metadata": {
    "id": "medical-couple",
    "scrolled": true
   },
   "outputs": [
    {
     "name": "stdout",
     "output_type": "stream",
     "text": [
      "         total_products  total_reordered  repeat_rate\n",
      "user_id                                              \n",
      "96430                 5                5          1.0\n",
      "69003                 4                4          1.0\n",
      "199910                3                3          1.0\n",
      "203290                6                6          1.0\n",
      "140076                1                1          1.0\n",
      "87731                 6                6          1.0\n",
      "69010                 3                3          1.0\n",
      "179451                5                5          1.0\n",
      "197349               15               15          1.0\n",
      "172208                7                7          1.0\n"
     ]
    }
   ],
   "source": [
    "order_products_users = order_products.merge(orders[['order_id', 'user_id']], on='order_id')\n",
    "\n",
    "user_reorder_stats = order_products_users.groupby('user_id').agg(\n",
    "    total_products=('reordered', 'count'),\n",
    "    total_reordered=('reordered', 'sum')\n",
    ")\n",
    "\n",
    "user_reorder_stats['repeat_rate'] = user_reorder_stats['total_reordered'] / user_reorder_stats['total_products']\n",
    "user_reorder_stats = user_reorder_stats.sort_values(by='repeat_rate', ascending=False)\n",
    "print(user_reorder_stats.head(10))"
   ]
  },
  {
   "cell_type": "code",
   "execution_count": null,
   "id": "8892e4b4",
   "metadata": {
    "id": "8892e4b4"
   },
   "outputs": [],
   "source": []
  },
  {
   "cell_type": "markdown",
   "id": "BgJSvXDsleXz",
   "metadata": {
    "id": "BgJSvXDsleXz"
   },
   "source": [
    "Este conjunto de datos muestra que todos los usuarios tienen un repeat_rate de 1.0, indicando que repiten exactamente los mismos productos en cada pedido, lo que sugiere un comportamiento de compra muy consistente y predecible."
   ]
  },
  {
   "cell_type": "markdown",
   "id": "92d35137",
   "metadata": {
    "id": "92d35137"
   },
   "source": [
    "### [C5] ¿Cuáles son los 20 principales artículos que las personas ponen primero en sus carritos?"
   ]
  },
  {
   "cell_type": "code",
   "execution_count": 72,
   "id": "82846540",
   "metadata": {},
   "outputs": [],
   "source": [
    "variable_nueva = products.merge(order_products, on='product_id')"
   ]
  },
  {
   "cell_type": "code",
   "execution_count": 73,
   "id": "0ae57274",
   "metadata": {
    "id": "0ae57274",
    "scrolled": true
   },
   "outputs": [
    {
     "data": {
      "text/plain": [
       "product_id  product_name               \n",
       "24852       Banana                         15562\n",
       "13176       Bag of Organic Bananas         11026\n",
       "27845       Organic Whole Milk              4363\n",
       "21137       Organic Strawberries            3946\n",
       "47209       Organic Hass Avocado            3390\n",
       "21903       Organic Baby Spinach            3336\n",
       "47766       Organic Avocado                 3044\n",
       "19660       Spring Water                    2336\n",
       "16797       Strawberries                    2308\n",
       "27966       Organic Raspberries             2024\n",
       "44632       Sparkling Water Grapefruit      1914\n",
       "49235       Organic Half & Half             1797\n",
       "47626       Large Lemon                     1737\n",
       "196         Soda                            1733\n",
       "38689       Organic Reduced Fat Milk        1397\n",
       "26209       Limes                           1370\n",
       "12341       Hass Avocados                   1340\n",
       "5785        Organic Reduced Fat 2% Milk     1310\n",
       "27086       Half & Half                     1309\n",
       "43352       Raspberries                     1246\n",
       "Name: add_to_cart_order, dtype: int64"
      ]
     },
     "execution_count": 73,
     "metadata": {},
     "output_type": "execute_result"
    }
   ],
   "source": [
    "filtrar_productos= variable_nueva[variable_nueva['add_to_cart_order'] == 1]\n",
    "df_new_order_prod= filtrar_productos.groupby(['product_id','product_name'])['add_to_cart_order'].count().sort_values(ascending=False).head(20)\n",
    "df_new_order_prod"
   ]
  },
  {
   "cell_type": "code",
   "execution_count": null,
   "id": "forty-netherlands",
   "metadata": {
    "id": "forty-netherlands",
    "scrolled": true
   },
   "outputs": [],
   "source": []
  },
  {
   "cell_type": "code",
   "execution_count": null,
   "id": "08e41ec2",
   "metadata": {
    "id": "08e41ec2"
   },
   "outputs": [],
   "source": []
  },
  {
   "cell_type": "markdown",
   "id": "28ce9872",
   "metadata": {
    "id": "28ce9872"
   },
   "source": [
    "Los productos más agregados al carrito son principalmente frutas, lácteos y artículos orgánicos de consumo básico, lo que refleja hábitos de compra frecuentes y una alta preferencia por alimentos saludables"
   ]
  },
  {
   "cell_type": "markdown",
   "id": "uITbFCEoDosC",
   "metadata": {
    "id": "uITbFCEoDosC"
   },
   "source": [
    "### Conclusion general del proyecto:"
   ]
  },
  {
   "cell_type": "code",
   "execution_count": null,
   "id": "Nk-4GS7mDwqY",
   "metadata": {
    "id": "Nk-4GS7mDwqY"
   },
   "outputs": [],
   "source": [
    "Es un proyecto complejo que muestra la importancia de limpiar duplicados, limpiar ausentes, para que se pueda graficar de manera acorde el proyecto sin cometer errores, en este proceso se tienen que fusionar las tablas para poder obtener lo que se solicita y despues podamos graficar de manera correcta sin errores. "
   ]
  }
 ],
 "metadata": {
  "ExecuteTimeLog": [
   {
    "duration": 218,
    "start_time": "2025-04-28T14:29:22.165Z"
   },
   {
    "duration": 18,
    "start_time": "2025-04-28T14:29:22.759Z"
   },
   {
    "duration": 15,
    "start_time": "2025-04-28T14:29:51.146Z"
   },
   {
    "duration": 3,
    "start_time": "2025-04-28T14:29:58.221Z"
   },
   {
    "duration": 3625,
    "start_time": "2025-04-28T14:29:59.189Z"
   },
   {
    "duration": 31,
    "start_time": "2025-04-28T14:30:02.856Z"
   },
   {
    "duration": 3157,
    "start_time": "2025-04-28T14:30:11.762Z"
   },
   {
    "duration": 22,
    "start_time": "2025-04-28T14:30:16.181Z"
   },
   {
    "duration": 12,
    "start_time": "2025-04-28T14:30:30.362Z"
   },
   {
    "duration": 15,
    "start_time": "2025-04-28T14:30:52.843Z"
   },
   {
    "duration": 42,
    "start_time": "2025-04-28T14:31:08.663Z"
   },
   {
    "duration": 10,
    "start_time": "2025-04-28T14:31:17.411Z"
   },
   {
    "duration": 125,
    "start_time": "2025-04-28T14:34:24.548Z"
   },
   {
    "duration": 1358,
    "start_time": "2025-04-28T14:36:54.271Z"
   },
   {
    "duration": 1238,
    "start_time": "2025-04-28T14:36:56.290Z"
   },
   {
    "duration": 27,
    "start_time": "2025-04-28T14:36:59.569Z"
   },
   {
    "duration": 1043,
    "start_time": "2025-04-28T14:38:37.728Z"
   },
   {
    "duration": 22,
    "start_time": "2025-04-28T14:38:44.158Z"
   },
   {
    "duration": 14,
    "start_time": "2025-04-28T14:38:46.278Z"
   },
   {
    "duration": 13,
    "start_time": "2025-04-28T14:38:49.154Z"
   },
   {
    "duration": 11,
    "start_time": "2025-04-28T14:38:54.973Z"
   },
   {
    "duration": 263,
    "start_time": "2025-04-28T18:11:58.606Z"
   },
   {
    "duration": 979,
    "start_time": "2025-04-28T18:12:00.221Z"
   },
   {
    "duration": 11,
    "start_time": "2025-04-28T18:12:01.756Z"
   },
   {
    "duration": 13,
    "start_time": "2025-04-28T18:12:04.043Z"
   },
   {
    "duration": 9,
    "start_time": "2025-04-28T18:12:06.630Z"
   },
   {
    "duration": 9,
    "start_time": "2025-04-28T18:12:08.597Z"
   },
   {
    "duration": 24,
    "start_time": "2025-04-28T18:12:10.931Z"
   },
   {
    "duration": 89,
    "start_time": "2025-04-28T18:12:33.157Z"
   },
   {
    "duration": 442,
    "start_time": "2025-04-28T18:17:28.667Z"
   },
   {
    "duration": 98,
    "start_time": "2025-04-28T18:18:56.700Z"
   },
   {
    "duration": 224,
    "start_time": "2025-04-28T18:19:22.773Z"
   },
   {
    "duration": 88,
    "start_time": "2025-04-28T18:23:49.897Z"
   },
   {
    "duration": 104,
    "start_time": "2025-04-28T18:32:01.817Z"
   },
   {
    "duration": 14,
    "start_time": "2025-04-28T18:34:47.599Z"
   },
   {
    "duration": 7,
    "start_time": "2025-04-28T18:48:35.645Z"
   },
   {
    "duration": 7,
    "start_time": "2025-04-28T18:48:47.622Z"
   },
   {
    "duration": 134,
    "start_time": "2025-04-28T18:51:21.611Z"
   },
   {
    "duration": 90,
    "start_time": "2025-04-28T18:52:52.837Z"
   },
   {
    "duration": 98,
    "start_time": "2025-04-28T18:52:59.305Z"
   },
   {
    "duration": 80,
    "start_time": "2025-04-28T18:53:01.972Z"
   },
   {
    "duration": 100,
    "start_time": "2025-04-28T18:54:49.819Z"
   },
   {
    "duration": 92,
    "start_time": "2025-04-28T18:54:51.729Z"
   },
   {
    "duration": 96,
    "start_time": "2025-04-28T18:56:36.297Z"
   },
   {
    "duration": 33,
    "start_time": "2025-04-28T18:57:44.858Z"
   },
   {
    "duration": 244,
    "start_time": "2025-04-28T20:11:05.376Z"
   },
   {
    "duration": 12,
    "start_time": "2025-04-28T20:11:16.176Z"
   },
   {
    "duration": 293,
    "start_time": "2025-04-28T20:11:20.753Z"
   },
   {
    "duration": 1092,
    "start_time": "2025-04-28T20:11:23.130Z"
   },
   {
    "duration": 11,
    "start_time": "2025-04-28T20:11:25.695Z"
   },
   {
    "duration": 10,
    "start_time": "2025-04-28T20:11:28.930Z"
   },
   {
    "duration": 8,
    "start_time": "2025-04-28T20:11:30.249Z"
   },
   {
    "duration": 10,
    "start_time": "2025-04-28T20:11:31.986Z"
   },
   {
    "duration": 24,
    "start_time": "2025-04-28T20:11:33.733Z"
   },
   {
    "duration": 94,
    "start_time": "2025-04-28T20:11:36.531Z"
   },
   {
    "duration": 8,
    "start_time": "2025-04-28T20:11:39.305Z"
   },
   {
    "duration": 97,
    "start_time": "2025-04-28T20:11:41.772Z"
   },
   {
    "duration": 121,
    "start_time": "2025-04-28T20:11:42.869Z"
   },
   {
    "duration": 39,
    "start_time": "2025-04-28T20:11:44.717Z"
   },
   {
    "duration": 7,
    "start_time": "2025-04-28T20:11:50.694Z"
   },
   {
    "duration": 35,
    "start_time": "2025-04-28T20:12:11.706Z"
   },
   {
    "duration": 5,
    "start_time": "2025-04-28T20:12:18.972Z"
   },
   {
    "duration": 12,
    "start_time": "2025-04-28T20:15:19.074Z"
   },
   {
    "duration": 3,
    "start_time": "2025-04-28T20:15:39.423Z"
   },
   {
    "duration": 4,
    "start_time": "2025-04-28T20:16:42.315Z"
   },
   {
    "duration": 3,
    "start_time": "2025-04-28T20:19:00.395Z"
   },
   {
    "duration": 762,
    "start_time": "2025-04-28T20:27:33.083Z"
   },
   {
    "duration": 15,
    "start_time": "2025-04-28T21:04:47.768Z"
   },
   {
    "duration": 21,
    "start_time": "2025-04-28T21:13:55.718Z"
   },
   {
    "duration": 7,
    "start_time": "2025-04-28T21:45:40.637Z"
   },
   {
    "duration": 8,
    "start_time": "2025-04-28T21:48:11.534Z"
   },
   {
    "duration": 6,
    "start_time": "2025-04-28T21:48:56.117Z"
   },
   {
    "duration": 5,
    "start_time": "2025-04-28T21:48:58.516Z"
   },
   {
    "duration": 9,
    "start_time": "2025-04-28T21:49:15.203Z"
   },
   {
    "duration": 4,
    "start_time": "2025-04-28T21:51:01.144Z"
   },
   {
    "duration": 3,
    "start_time": "2025-04-28T21:54:01.346Z"
   },
   {
    "duration": 4,
    "start_time": "2025-04-28T21:54:19.001Z"
   },
   {
    "duration": 5,
    "start_time": "2025-04-28T21:56:59.032Z"
   },
   {
    "duration": 7,
    "start_time": "2025-04-28T22:01:14.917Z"
   },
   {
    "duration": 7,
    "start_time": "2025-04-28T22:04:27.910Z"
   },
   {
    "duration": 5,
    "start_time": "2025-04-28T22:05:13.924Z"
   },
   {
    "duration": 24,
    "start_time": "2025-04-28T23:04:35.686Z"
   },
   {
    "duration": 12,
    "start_time": "2025-04-28T23:11:31.512Z"
   },
   {
    "duration": 13,
    "start_time": "2025-04-28T23:11:42.930Z"
   },
   {
    "duration": 15,
    "start_time": "2025-04-28T23:11:45.776Z"
   },
   {
    "duration": 13,
    "start_time": "2025-04-28T23:13:11.890Z"
   },
   {
    "duration": 699,
    "start_time": "2025-04-28T23:13:13.525Z"
   },
   {
    "duration": 13,
    "start_time": "2025-04-28T23:13:15.731Z"
   },
   {
    "duration": 26,
    "start_time": "2025-04-28T23:14:15.593Z"
   },
   {
    "duration": 28,
    "start_time": "2025-04-28T23:14:36.758Z"
   },
   {
    "duration": 40,
    "start_time": "2025-04-28T23:17:14.645Z"
   },
   {
    "duration": 806,
    "start_time": "2025-04-28T23:33:01.306Z"
   },
   {
    "duration": 12,
    "start_time": "2025-04-28T23:38:18.412Z"
   },
   {
    "duration": 15,
    "start_time": "2025-04-28T23:38:30.428Z"
   },
   {
    "duration": 31,
    "start_time": "2025-04-28T23:41:30.518Z"
   },
   {
    "duration": 8,
    "start_time": "2025-04-29T00:34:01.964Z"
   },
   {
    "duration": 10,
    "start_time": "2025-04-29T00:34:07.070Z"
   },
   {
    "duration": 3,
    "start_time": "2025-04-29T00:34:31.388Z"
   },
   {
    "duration": 8,
    "start_time": "2025-04-29T01:04:34.815Z"
   },
   {
    "duration": 10,
    "start_time": "2025-04-29T01:06:11.614Z"
   },
   {
    "duration": 12,
    "start_time": "2025-04-29T01:07:37.344Z"
   },
   {
    "duration": 7,
    "start_time": "2025-04-29T01:07:54.904Z"
   },
   {
    "duration": 441,
    "start_time": "2025-04-29T01:09:04.901Z"
   },
   {
    "duration": 16,
    "start_time": "2025-04-29T01:10:00.682Z"
   },
   {
    "duration": 16,
    "start_time": "2025-04-29T01:11:43.406Z"
   },
   {
    "duration": 13,
    "start_time": "2025-04-29T01:12:59.397Z"
   },
   {
    "duration": 13,
    "start_time": "2025-04-29T01:54:00.754Z"
   },
   {
    "duration": 6,
    "start_time": "2025-04-29T01:54:14.232Z"
   },
   {
    "duration": 7,
    "start_time": "2025-04-29T01:57:10.092Z"
   },
   {
    "duration": 8,
    "start_time": "2025-04-29T01:58:37.780Z"
   },
   {
    "duration": 37,
    "start_time": "2025-04-29T02:04:01.294Z"
   },
   {
    "duration": 48,
    "start_time": "2025-04-29T03:14:53.774Z"
   },
   {
    "duration": 52,
    "start_time": "2025-04-29T03:15:00.761Z"
   },
   {
    "duration": 5,
    "start_time": "2025-04-29T03:19:07.271Z"
   },
   {
    "duration": 4,
    "start_time": "2025-04-29T03:24:35.572Z"
   },
   {
    "duration": 6,
    "start_time": "2025-04-29T03:34:56.678Z"
   },
   {
    "duration": 7,
    "start_time": "2025-04-29T03:36:47.532Z"
   },
   {
    "duration": 22,
    "start_time": "2025-04-29T03:37:07.195Z"
   },
   {
    "duration": 17,
    "start_time": "2025-04-29T03:39:51.567Z"
   },
   {
    "duration": 5,
    "start_time": "2025-04-29T03:45:44.291Z"
   },
   {
    "duration": 64,
    "start_time": "2025-04-29T03:47:19.195Z"
   },
   {
    "duration": 4,
    "start_time": "2025-04-29T03:50:49.141Z"
   },
   {
    "duration": 277,
    "start_time": "2025-04-29T03:51:00.233Z"
   },
   {
    "duration": 6,
    "start_time": "2025-04-29T03:51:09.270Z"
   },
   {
    "duration": 238,
    "start_time": "2025-04-29T03:54:13.929Z"
   },
   {
    "duration": 14,
    "start_time": "2025-04-29T03:54:31.334Z"
   },
   {
    "duration": 15,
    "start_time": "2025-04-29T03:56:52.321Z"
   },
   {
    "duration": 297,
    "start_time": "2025-04-29T03:58:25.434Z"
   },
   {
    "duration": 908,
    "start_time": "2025-04-29T03:58:25.734Z"
   },
   {
    "duration": 12,
    "start_time": "2025-04-29T03:58:26.643Z"
   },
   {
    "duration": 9,
    "start_time": "2025-04-29T03:58:26.657Z"
   },
   {
    "duration": 26,
    "start_time": "2025-04-29T03:58:26.669Z"
   },
   {
    "duration": 9,
    "start_time": "2025-04-29T03:58:26.697Z"
   },
   {
    "duration": 23,
    "start_time": "2025-04-29T03:58:26.709Z"
   },
   {
    "duration": 106,
    "start_time": "2025-04-29T03:58:26.734Z"
   },
   {
    "duration": 9,
    "start_time": "2025-04-29T03:58:26.843Z"
   },
   {
    "duration": 103,
    "start_time": "2025-04-29T03:58:26.854Z"
   },
   {
    "duration": 137,
    "start_time": "2025-04-29T03:58:26.959Z"
   },
   {
    "duration": 37,
    "start_time": "2025-04-29T03:58:27.098Z"
   },
   {
    "duration": 12,
    "start_time": "2025-04-29T03:58:27.138Z"
   },
   {
    "duration": 4,
    "start_time": "2025-04-29T03:58:27.153Z"
   },
   {
    "duration": 43,
    "start_time": "2025-04-29T03:58:27.158Z"
   },
   {
    "duration": 13,
    "start_time": "2025-04-29T03:58:27.203Z"
   },
   {
    "duration": 3,
    "start_time": "2025-04-29T03:58:27.217Z"
   },
   {
    "duration": 6,
    "start_time": "2025-04-29T03:58:27.222Z"
   },
   {
    "duration": 5,
    "start_time": "2025-04-29T03:58:27.229Z"
   },
   {
    "duration": 4,
    "start_time": "2025-04-29T03:58:27.235Z"
   },
   {
    "duration": 873,
    "start_time": "2025-04-29T03:58:27.241Z"
   },
   {
    "duration": 51,
    "start_time": "2025-04-29T03:58:28.119Z"
   },
   {
    "duration": 22,
    "start_time": "2025-04-29T03:58:28.172Z"
   },
   {
    "duration": 4,
    "start_time": "2025-04-29T03:58:28.196Z"
   },
   {
    "duration": 4,
    "start_time": "2025-04-29T03:58:28.201Z"
   },
   {
    "duration": 8,
    "start_time": "2025-04-29T03:58:28.207Z"
   },
   {
    "duration": 8,
    "start_time": "2025-04-29T03:58:28.217Z"
   },
   {
    "duration": 7,
    "start_time": "2025-04-29T03:58:28.227Z"
   },
   {
    "duration": 51,
    "start_time": "2025-04-29T03:58:28.236Z"
   },
   {
    "duration": 24,
    "start_time": "2025-04-29T03:58:28.288Z"
   },
   {
    "duration": 42,
    "start_time": "2025-04-29T03:58:28.314Z"
   },
   {
    "duration": 32,
    "start_time": "2025-04-29T03:58:28.358Z"
   },
   {
    "duration": 9,
    "start_time": "2025-04-29T03:58:28.392Z"
   },
   {
    "duration": 49,
    "start_time": "2025-04-29T03:58:28.403Z"
   },
   {
    "duration": 3,
    "start_time": "2025-04-29T03:58:33.287Z"
   },
   {
    "duration": 873,
    "start_time": "2025-04-29T03:58:34.771Z"
   },
   {
    "duration": 11,
    "start_time": "2025-04-29T03:58:36.381Z"
   },
   {
    "duration": 324,
    "start_time": "2025-04-29T04:00:31.113Z"
   },
   {
    "duration": 915,
    "start_time": "2025-04-29T04:00:31.443Z"
   },
   {
    "duration": 12,
    "start_time": "2025-04-29T04:00:32.360Z"
   },
   {
    "duration": 21,
    "start_time": "2025-04-29T04:00:32.374Z"
   },
   {
    "duration": 8,
    "start_time": "2025-04-29T04:00:32.396Z"
   },
   {
    "duration": 7,
    "start_time": "2025-04-29T04:00:32.405Z"
   },
   {
    "duration": 24,
    "start_time": "2025-04-29T04:00:32.414Z"
   },
   {
    "duration": 136,
    "start_time": "2025-04-29T04:00:32.440Z"
   },
   {
    "duration": 14,
    "start_time": "2025-04-29T04:00:32.578Z"
   },
   {
    "duration": 110,
    "start_time": "2025-04-29T04:00:32.597Z"
   },
   {
    "duration": 117,
    "start_time": "2025-04-29T04:00:32.709Z"
   },
   {
    "duration": 27,
    "start_time": "2025-04-29T04:00:32.828Z"
   },
   {
    "duration": 34,
    "start_time": "2025-04-29T04:00:32.856Z"
   },
   {
    "duration": 5,
    "start_time": "2025-04-29T04:00:32.892Z"
   },
   {
    "duration": 19,
    "start_time": "2025-04-29T04:00:32.899Z"
   },
   {
    "duration": 18,
    "start_time": "2025-04-29T04:00:32.920Z"
   },
   {
    "duration": 3,
    "start_time": "2025-04-29T04:00:32.940Z"
   },
   {
    "duration": 7,
    "start_time": "2025-04-29T04:00:32.945Z"
   },
   {
    "duration": 37,
    "start_time": "2025-04-29T04:00:32.953Z"
   },
   {
    "duration": 4,
    "start_time": "2025-04-29T04:00:32.992Z"
   },
   {
    "duration": 822,
    "start_time": "2025-04-29T04:00:32.997Z"
   },
   {
    "duration": 40,
    "start_time": "2025-04-29T04:00:33.821Z"
   },
   {
    "duration": 8,
    "start_time": "2025-04-29T04:00:33.863Z"
   },
   {
    "duration": 3,
    "start_time": "2025-04-29T04:00:33.887Z"
   },
   {
    "duration": 3,
    "start_time": "2025-04-29T04:00:33.892Z"
   },
   {
    "duration": 7,
    "start_time": "2025-04-29T04:00:33.897Z"
   },
   {
    "duration": 7,
    "start_time": "2025-04-29T04:00:33.906Z"
   },
   {
    "duration": 5,
    "start_time": "2025-04-29T04:00:33.917Z"
   },
   {
    "duration": 13,
    "start_time": "2025-04-29T04:00:33.925Z"
   },
   {
    "duration": 61,
    "start_time": "2025-04-29T04:00:33.939Z"
   },
   {
    "duration": 32,
    "start_time": "2025-04-29T04:00:34.002Z"
   },
   {
    "duration": 13,
    "start_time": "2025-04-29T04:00:34.036Z"
   },
   {
    "duration": 7,
    "start_time": "2025-04-29T04:00:34.051Z"
   },
   {
    "duration": 62,
    "start_time": "2025-04-29T04:00:34.060Z"
   },
   {
    "duration": 3,
    "start_time": "2025-04-29T04:10:13.547Z"
   },
   {
    "duration": 5,
    "start_time": "2025-04-29T04:17:04.928Z"
   },
   {
    "duration": 5,
    "start_time": "2025-04-29T04:17:36.632Z"
   },
   {
    "duration": 4,
    "start_time": "2025-04-29T04:18:52.386Z"
   },
   {
    "duration": 4,
    "start_time": "2025-04-29T04:18:53.591Z"
   },
   {
    "duration": 4,
    "start_time": "2025-04-29T04:19:47.835Z"
   },
   {
    "duration": 4,
    "start_time": "2025-04-29T04:19:48.852Z"
   },
   {
    "duration": 2075,
    "start_time": "2025-04-29T05:00:51.697Z"
   },
   {
    "duration": 6,
    "start_time": "2025-04-29T05:06:04.918Z"
   },
   {
    "duration": 7,
    "start_time": "2025-04-29T05:06:50.802Z"
   },
   {
    "duration": 173,
    "start_time": "2025-04-29T05:07:52.959Z"
   },
   {
    "duration": 208,
    "start_time": "2025-04-29T05:15:04.397Z"
   },
   {
    "duration": 213,
    "start_time": "2025-04-29T05:17:48.086Z"
   },
   {
    "duration": 181,
    "start_time": "2025-04-29T05:18:47.682Z"
   },
   {
    "duration": 174,
    "start_time": "2025-04-29T05:19:35.024Z"
   },
   {
    "duration": 173,
    "start_time": "2025-04-29T05:20:08.998Z"
   },
   {
    "duration": 10,
    "start_time": "2025-04-29T05:21:50.111Z"
   },
   {
    "duration": 7,
    "start_time": "2025-04-29T05:22:33.228Z"
   },
   {
    "duration": 182,
    "start_time": "2025-04-29T05:22:45.430Z"
   },
   {
    "duration": 105,
    "start_time": "2025-04-29T05:23:52.392Z"
   },
   {
    "duration": 175,
    "start_time": "2025-04-29T05:26:17.515Z"
   },
   {
    "duration": 174,
    "start_time": "2025-04-29T05:26:36.416Z"
   },
   {
    "duration": 133,
    "start_time": "2025-04-29T05:27:07.899Z"
   },
   {
    "duration": 170,
    "start_time": "2025-04-29T05:27:14.713Z"
   },
   {
    "duration": 10,
    "start_time": "2025-04-29T05:39:11.666Z"
   },
   {
    "duration": 11,
    "start_time": "2025-04-29T05:43:08.257Z"
   },
   {
    "duration": 10,
    "start_time": "2025-04-29T05:43:24.684Z"
   },
   {
    "duration": 192,
    "start_time": "2025-04-29T05:44:26.662Z"
   },
   {
    "duration": 4,
    "start_time": "2025-04-29T05:45:19.436Z"
   },
   {
    "duration": 229,
    "start_time": "2025-04-29T05:45:32.397Z"
   },
   {
    "duration": 203,
    "start_time": "2025-04-29T05:46:21.672Z"
   },
   {
    "duration": 207,
    "start_time": "2025-04-29T05:46:40.277Z"
   },
   {
    "duration": 198,
    "start_time": "2025-04-29T05:46:58.441Z"
   },
   {
    "duration": 165,
    "start_time": "2025-04-29T20:49:25.568Z"
   },
   {
    "duration": 19,
    "start_time": "2025-04-29T20:49:43.248Z"
   },
   {
    "duration": 16,
    "start_time": "2025-04-29T20:55:31.671Z"
   },
   {
    "duration": 2284,
    "start_time": "2025-04-29T20:55:50.738Z"
   },
   {
    "duration": 3,
    "start_time": "2025-04-29T20:55:53.763Z"
   },
   {
    "duration": 1032,
    "start_time": "2025-04-29T20:55:55.179Z"
   },
   {
    "duration": 12,
    "start_time": "2025-04-29T20:55:56.817Z"
   },
   {
    "duration": 10,
    "start_time": "2025-04-29T20:55:59.518Z"
   },
   {
    "duration": 8,
    "start_time": "2025-04-29T20:56:01.527Z"
   },
   {
    "duration": 9,
    "start_time": "2025-04-29T20:56:03.063Z"
   },
   {
    "duration": 23,
    "start_time": "2025-04-29T20:56:05.363Z"
   },
   {
    "duration": 152,
    "start_time": "2025-04-29T20:56:11.748Z"
   },
   {
    "duration": 184,
    "start_time": "2025-04-29T20:56:39.961Z"
   },
   {
    "duration": 183,
    "start_time": "2025-04-29T21:00:12.825Z"
   },
   {
    "duration": 108,
    "start_time": "2025-04-29T21:01:55.392Z"
   },
   {
    "duration": 356,
    "start_time": "2025-04-29T21:02:22.829Z"
   },
   {
    "duration": 12,
    "start_time": "2025-04-29T21:03:20.697Z"
   },
   {
    "duration": 5,
    "start_time": "2025-04-29T21:03:22.290Z"
   },
   {
    "duration": 3,
    "start_time": "2025-04-29T21:03:23.930Z"
   },
   {
    "duration": 371,
    "start_time": "2025-04-29T21:03:25.010Z"
   },
   {
    "duration": 983,
    "start_time": "2025-04-29T21:17:03.068Z"
   },
   {
    "duration": 93,
    "start_time": "2025-04-29T21:17:36.488Z"
   },
   {
    "duration": 84,
    "start_time": "2025-04-29T21:21:28.017Z"
   },
   {
    "duration": 11,
    "start_time": "2025-04-29T21:21:29.515Z"
   },
   {
    "duration": 358,
    "start_time": "2025-04-29T21:21:30.349Z"
   },
   {
    "duration": 296,
    "start_time": "2025-04-29T21:26:36.825Z"
   },
   {
    "duration": 1155,
    "start_time": "2025-04-29T21:26:47.707Z"
   },
   {
    "duration": 440,
    "start_time": "2025-04-29T22:12:05.793Z"
   },
   {
    "duration": 242,
    "start_time": "2025-04-29T22:45:59.832Z"
   },
   {
    "duration": 296,
    "start_time": "2025-04-29T22:46:06.174Z"
   },
   {
    "duration": 342,
    "start_time": "2025-04-29T22:46:45.374Z"
   },
   {
    "duration": 331,
    "start_time": "2025-04-29T22:46:47.178Z"
   },
   {
    "duration": 13,
    "start_time": "2025-04-29T23:06:17.601Z"
   },
   {
    "duration": 44,
    "start_time": "2025-04-29T23:06:31.910Z"
   },
   {
    "duration": 118,
    "start_time": "2025-04-29T23:06:47.454Z"
   },
   {
    "duration": 132,
    "start_time": "2025-04-29T23:09:13.145Z"
   },
   {
    "duration": 128,
    "start_time": "2025-04-29T23:09:38.082Z"
   },
   {
    "duration": 6,
    "start_time": "2025-04-29T23:17:26.005Z"
   },
   {
    "duration": 14,
    "start_time": "2025-04-29T23:17:55.470Z"
   },
   {
    "duration": 13,
    "start_time": "2025-04-29T23:18:31.873Z"
   },
   {
    "duration": 114,
    "start_time": "2025-04-29T23:18:36.020Z"
   },
   {
    "duration": 19,
    "start_time": "2025-04-29T23:19:02.781Z"
   },
   {
    "duration": 119,
    "start_time": "2025-04-29T23:19:05.967Z"
   },
   {
    "duration": 19,
    "start_time": "2025-04-29T23:19:17.930Z"
   },
   {
    "duration": 13,
    "start_time": "2025-04-29T23:20:21.462Z"
   },
   {
    "duration": 13,
    "start_time": "2025-04-29T23:20:23.304Z"
   },
   {
    "duration": 13,
    "start_time": "2025-04-29T23:23:04.384Z"
   },
   {
    "duration": 23,
    "start_time": "2025-04-30T01:22:45.549Z"
   },
   {
    "duration": 293,
    "start_time": "2025-04-30T01:22:48.354Z"
   },
   {
    "duration": 13,
    "start_time": "2025-04-30T01:22:50.017Z"
   },
   {
    "duration": 290,
    "start_time": "2025-04-30T01:23:06.490Z"
   },
   {
    "duration": 14,
    "start_time": "2025-04-30T01:23:07.995Z"
   },
   {
    "duration": 291,
    "start_time": "2025-04-30T01:23:20.818Z"
   },
   {
    "duration": 580,
    "start_time": "2025-04-30T01:23:32.922Z"
   },
   {
    "duration": 364,
    "start_time": "2025-04-30T01:23:52.436Z"
   },
   {
    "duration": 349,
    "start_time": "2025-04-30T01:24:34.601Z"
   },
   {
    "duration": 294,
    "start_time": "2025-04-30T01:24:44.129Z"
   },
   {
    "duration": 289,
    "start_time": "2025-04-30T01:25:05.114Z"
   },
   {
    "duration": 142,
    "start_time": "2025-04-30T01:25:39.018Z"
   },
   {
    "duration": 147,
    "start_time": "2025-04-30T01:26:22.518Z"
   },
   {
    "duration": 15,
    "start_time": "2025-04-30T01:28:17.502Z"
   },
   {
    "duration": 8,
    "start_time": "2025-04-30T01:28:27.437Z"
   },
   {
    "duration": 123,
    "start_time": "2025-04-30T01:28:28.650Z"
   },
   {
    "duration": 206,
    "start_time": "2025-04-30T01:28:50.114Z"
   },
   {
    "duration": 13,
    "start_time": "2025-04-30T01:30:49.865Z"
   },
   {
    "duration": 139,
    "start_time": "2025-04-30T01:42:44.814Z"
   },
   {
    "duration": 135,
    "start_time": "2025-04-30T01:43:28.591Z"
   },
   {
    "duration": 145,
    "start_time": "2025-04-30T01:43:38.306Z"
   },
   {
    "duration": 4,
    "start_time": "2025-04-30T01:45:03.546Z"
   },
   {
    "duration": 6,
    "start_time": "2025-04-30T01:45:35.189Z"
   },
   {
    "duration": 222,
    "start_time": "2025-04-30T01:46:08.868Z"
   },
   {
    "duration": 5,
    "start_time": "2025-04-30T01:46:33.124Z"
   },
   {
    "duration": 13,
    "start_time": "2025-04-30T01:48:06.976Z"
   },
   {
    "duration": 14,
    "start_time": "2025-04-30T01:48:25.567Z"
   },
   {
    "duration": 15,
    "start_time": "2025-04-30T01:48:49.600Z"
   },
   {
    "duration": 4,
    "start_time": "2025-04-30T01:48:52.838Z"
   },
   {
    "duration": 16,
    "start_time": "2025-04-30T01:48:54.438Z"
   },
   {
    "duration": 4,
    "start_time": "2025-04-30T01:49:32.001Z"
   },
   {
    "duration": 16,
    "start_time": "2025-04-30T01:49:33.826Z"
   },
   {
    "duration": 5,
    "start_time": "2025-04-30T01:49:59.083Z"
   },
   {
    "duration": 7,
    "start_time": "2025-04-30T01:53:15.927Z"
   },
   {
    "duration": 6,
    "start_time": "2025-04-30T01:53:43.428Z"
   },
   {
    "duration": 5,
    "start_time": "2025-04-30T01:54:35.055Z"
   },
   {
    "duration": 6,
    "start_time": "2025-04-30T01:54:41.485Z"
   },
   {
    "duration": 3,
    "start_time": "2025-04-30T02:00:30.286Z"
   },
   {
    "duration": 15,
    "start_time": "2025-04-30T02:00:31.682Z"
   },
   {
    "duration": 8,
    "start_time": "2025-04-30T02:01:11.366Z"
   },
   {
    "duration": 15,
    "start_time": "2025-04-30T02:01:12.082Z"
   },
   {
    "duration": 10,
    "start_time": "2025-04-30T02:01:14.800Z"
   },
   {
    "duration": 5,
    "start_time": "2025-04-30T02:01:16.523Z"
   },
   {
    "duration": 6,
    "start_time": "2025-04-30T02:01:29.560Z"
   },
   {
    "duration": 141,
    "start_time": "2025-04-30T02:01:45.002Z"
   },
   {
    "duration": 4,
    "start_time": "2025-04-30T02:01:46.249Z"
   },
   {
    "duration": 15,
    "start_time": "2025-04-30T02:01:47.358Z"
   },
   {
    "duration": 10,
    "start_time": "2025-04-30T02:01:48.435Z"
   },
   {
    "duration": 5,
    "start_time": "2025-04-30T02:01:49.338Z"
   },
   {
    "duration": 151,
    "start_time": "2025-04-30T02:02:39.896Z"
   },
   {
    "duration": 4,
    "start_time": "2025-04-30T02:02:40.940Z"
   },
   {
    "duration": 14,
    "start_time": "2025-04-30T02:02:41.907Z"
   },
   {
    "duration": 11,
    "start_time": "2025-04-30T02:02:43.132Z"
   },
   {
    "duration": 6,
    "start_time": "2025-04-30T02:02:44.072Z"
   },
   {
    "duration": 156,
    "start_time": "2025-04-30T02:03:52.324Z"
   },
   {
    "duration": 5,
    "start_time": "2025-04-30T02:04:33.109Z"
   },
   {
    "duration": 5,
    "start_time": "2025-04-30T02:04:44.628Z"
   },
   {
    "duration": 15,
    "start_time": "2025-04-30T02:07:04.302Z"
   },
   {
    "duration": 1171,
    "start_time": "2025-04-30T02:07:13.727Z"
   },
   {
    "duration": 1168,
    "start_time": "2025-04-30T02:07:22.734Z"
   },
   {
    "duration": 415,
    "start_time": "2025-04-30T04:11:46.716Z"
   },
   {
    "duration": 943,
    "start_time": "2025-04-30T04:11:47.132Z"
   },
   {
    "duration": 12,
    "start_time": "2025-04-30T04:11:48.077Z"
   },
   {
    "duration": 10,
    "start_time": "2025-04-30T04:11:48.091Z"
   },
   {
    "duration": 8,
    "start_time": "2025-04-30T04:11:48.102Z"
   },
   {
    "duration": 8,
    "start_time": "2025-04-30T04:11:48.111Z"
   },
   {
    "duration": 23,
    "start_time": "2025-04-30T04:11:48.143Z"
   },
   {
    "duration": 101,
    "start_time": "2025-04-30T04:11:48.168Z"
   },
   {
    "duration": 9,
    "start_time": "2025-04-30T04:11:48.271Z"
   },
   {
    "duration": 107,
    "start_time": "2025-04-30T04:11:48.283Z"
   },
   {
    "duration": 102,
    "start_time": "2025-04-30T04:11:48.392Z"
   },
   {
    "duration": 29,
    "start_time": "2025-04-30T04:11:48.496Z"
   },
   {
    "duration": 26,
    "start_time": "2025-04-30T04:11:48.527Z"
   },
   {
    "duration": 5,
    "start_time": "2025-04-30T04:11:48.554Z"
   },
   {
    "duration": 19,
    "start_time": "2025-04-30T04:11:48.561Z"
   },
   {
    "duration": 16,
    "start_time": "2025-04-30T04:11:48.582Z"
   },
   {
    "duration": 3,
    "start_time": "2025-04-30T04:11:48.600Z"
   },
   {
    "duration": 3,
    "start_time": "2025-04-30T04:11:48.606Z"
   },
   {
    "duration": 5,
    "start_time": "2025-04-30T04:11:48.643Z"
   },
   {
    "duration": 3,
    "start_time": "2025-04-30T04:11:48.649Z"
   },
   {
    "duration": 802,
    "start_time": "2025-04-30T04:11:48.654Z"
   },
   {
    "duration": 39,
    "start_time": "2025-04-30T04:11:49.458Z"
   },
   {
    "duration": 9,
    "start_time": "2025-04-30T04:11:49.499Z"
   },
   {
    "duration": 3,
    "start_time": "2025-04-30T04:11:49.510Z"
   },
   {
    "duration": 27,
    "start_time": "2025-04-30T04:11:49.516Z"
   },
   {
    "duration": 6,
    "start_time": "2025-04-30T04:11:49.545Z"
   },
   {
    "duration": 7,
    "start_time": "2025-04-30T04:11:49.553Z"
   },
   {
    "duration": 6,
    "start_time": "2025-04-30T04:11:49.565Z"
   },
   {
    "duration": 13,
    "start_time": "2025-04-30T04:11:49.572Z"
   },
   {
    "duration": 16,
    "start_time": "2025-04-30T04:11:49.588Z"
   },
   {
    "duration": 61,
    "start_time": "2025-04-30T04:11:49.605Z"
   },
   {
    "duration": 13,
    "start_time": "2025-04-30T04:11:49.668Z"
   },
   {
    "duration": 7,
    "start_time": "2025-04-30T04:11:49.683Z"
   },
   {
    "duration": 62,
    "start_time": "2025-04-30T04:11:49.692Z"
   },
   {
    "duration": 4,
    "start_time": "2025-04-30T04:11:49.756Z"
   },
   {
    "duration": 4,
    "start_time": "2025-04-30T04:11:49.762Z"
   },
   {
    "duration": 7,
    "start_time": "2025-04-30T04:11:49.768Z"
   },
   {
    "duration": 231,
    "start_time": "2025-04-30T04:11:49.777Z"
   },
   {
    "duration": 7,
    "start_time": "2025-04-30T04:11:50.011Z"
   },
   {
    "duration": 141,
    "start_time": "2025-04-30T04:11:50.020Z"
   },
   {
    "duration": 10,
    "start_time": "2025-04-30T04:11:50.163Z"
   },
   {
    "duration": 228,
    "start_time": "2025-04-30T04:11:50.175Z"
   },
   {
    "duration": 10,
    "start_time": "2025-04-30T04:11:50.404Z"
   },
   {
    "duration": 4,
    "start_time": "2025-04-30T04:11:50.415Z"
   },
   {
    "duration": 23,
    "start_time": "2025-04-30T04:11:50.421Z"
   },
   {
    "duration": 373,
    "start_time": "2025-04-30T04:11:50.446Z"
   },
   {
    "duration": 1025,
    "start_time": "2025-04-30T04:11:50.820Z"
   },
   {
    "duration": 88,
    "start_time": "2025-04-30T04:11:51.847Z"
   },
   {
    "duration": 11,
    "start_time": "2025-04-30T04:11:51.943Z"
   },
   {
    "duration": 328,
    "start_time": "2025-04-30T04:11:51.955Z"
   },
   {
    "duration": 254,
    "start_time": "2025-04-30T04:11:52.285Z"
   },
   {
    "duration": 160,
    "start_time": "2025-04-30T04:14:18.664Z"
   },
   {
    "duration": 13,
    "start_time": "2025-04-30T04:14:34.768Z"
   },
   {
    "duration": 14,
    "start_time": "2025-04-30T04:14:39.461Z"
   },
   {
    "duration": 467,
    "start_time": "2025-04-30T04:15:17.413Z"
   },
   {
    "duration": 1019,
    "start_time": "2025-04-30T04:15:17.883Z"
   },
   {
    "duration": 12,
    "start_time": "2025-04-30T04:15:18.904Z"
   },
   {
    "duration": 24,
    "start_time": "2025-04-30T04:15:18.919Z"
   },
   {
    "duration": 10,
    "start_time": "2025-04-30T04:15:18.945Z"
   },
   {
    "duration": 10,
    "start_time": "2025-04-30T04:15:18.957Z"
   },
   {
    "duration": 32,
    "start_time": "2025-04-30T04:15:18.969Z"
   },
   {
    "duration": 116,
    "start_time": "2025-04-30T04:15:19.003Z"
   },
   {
    "duration": 8,
    "start_time": "2025-04-30T04:15:19.121Z"
   },
   {
    "duration": 99,
    "start_time": "2025-04-30T04:15:19.144Z"
   },
   {
    "duration": 105,
    "start_time": "2025-04-30T04:15:19.245Z"
   },
   {
    "duration": 28,
    "start_time": "2025-04-30T04:15:19.351Z"
   },
   {
    "duration": 12,
    "start_time": "2025-04-30T04:15:19.380Z"
   },
   {
    "duration": 5,
    "start_time": "2025-04-30T04:15:19.394Z"
   },
   {
    "duration": 43,
    "start_time": "2025-04-30T04:15:19.401Z"
   },
   {
    "duration": 17,
    "start_time": "2025-04-30T04:15:19.446Z"
   },
   {
    "duration": 3,
    "start_time": "2025-04-30T04:15:19.465Z"
   },
   {
    "duration": 3,
    "start_time": "2025-04-30T04:15:19.470Z"
   },
   {
    "duration": 4,
    "start_time": "2025-04-30T04:15:19.475Z"
   },
   {
    "duration": 3,
    "start_time": "2025-04-30T04:15:19.481Z"
   },
   {
    "duration": 850,
    "start_time": "2025-04-30T04:15:19.486Z"
   },
   {
    "duration": 47,
    "start_time": "2025-04-30T04:15:20.343Z"
   },
   {
    "duration": 8,
    "start_time": "2025-04-30T04:15:20.392Z"
   },
   {
    "duration": 3,
    "start_time": "2025-04-30T04:15:20.402Z"
   },
   {
    "duration": 3,
    "start_time": "2025-04-30T04:15:20.407Z"
   },
   {
    "duration": 36,
    "start_time": "2025-04-30T04:15:20.411Z"
   },
   {
    "duration": 8,
    "start_time": "2025-04-30T04:15:20.450Z"
   },
   {
    "duration": 5,
    "start_time": "2025-04-30T04:15:20.462Z"
   },
   {
    "duration": 13,
    "start_time": "2025-04-30T04:15:20.469Z"
   },
   {
    "duration": 14,
    "start_time": "2025-04-30T04:15:20.484Z"
   },
   {
    "duration": 62,
    "start_time": "2025-04-30T04:15:20.500Z"
   },
   {
    "duration": 15,
    "start_time": "2025-04-30T04:15:20.564Z"
   },
   {
    "duration": 8,
    "start_time": "2025-04-30T04:15:20.581Z"
   },
   {
    "duration": 59,
    "start_time": "2025-04-30T04:15:20.591Z"
   },
   {
    "duration": 4,
    "start_time": "2025-04-30T04:15:20.653Z"
   },
   {
    "duration": 4,
    "start_time": "2025-04-30T04:15:20.658Z"
   },
   {
    "duration": 11,
    "start_time": "2025-04-30T04:15:20.663Z"
   },
   {
    "duration": 213,
    "start_time": "2025-04-30T04:15:20.675Z"
   },
   {
    "duration": 7,
    "start_time": "2025-04-30T04:15:20.890Z"
   },
   {
    "duration": 132,
    "start_time": "2025-04-30T04:15:20.898Z"
   },
   {
    "duration": 16,
    "start_time": "2025-04-30T04:15:21.032Z"
   },
   {
    "duration": 207,
    "start_time": "2025-04-30T04:15:21.050Z"
   },
   {
    "duration": 9,
    "start_time": "2025-04-30T04:15:21.259Z"
   },
   {
    "duration": 4,
    "start_time": "2025-04-30T04:15:21.269Z"
   },
   {
    "duration": 4,
    "start_time": "2025-04-30T04:15:21.275Z"
   },
   {
    "duration": 392,
    "start_time": "2025-04-30T04:15:21.280Z"
   },
   {
    "duration": 1054,
    "start_time": "2025-04-30T04:15:21.674Z"
   },
   {
    "duration": 99,
    "start_time": "2025-04-30T04:15:22.731Z"
   },
   {
    "duration": 15,
    "start_time": "2025-04-30T04:15:22.832Z"
   },
   {
    "duration": 343,
    "start_time": "2025-04-30T04:15:22.848Z"
   },
   {
    "duration": 265,
    "start_time": "2025-04-30T04:15:25.409Z"
   },
   {
    "duration": 121691,
    "start_time": "2025-04-30T04:15:32.401Z"
   },
   {
    "duration": 259,
    "start_time": "2025-04-30T04:18:52.124Z"
   },
   {
    "duration": 66533,
    "start_time": "2025-04-30T04:18:57.025Z"
   },
   {
    "duration": 7748,
    "start_time": "2025-04-30T04:21:13.016Z"
   },
   {
    "duration": 4,
    "start_time": "2025-04-30T04:23:13.054Z"
   },
   {
    "duration": 119,
    "start_time": "2025-04-30T04:31:07.341Z"
   },
   {
    "duration": 123,
    "start_time": "2025-04-30T04:32:40.347Z"
   },
   {
    "duration": 130,
    "start_time": "2025-04-30T04:34:36.195Z"
   },
   {
    "duration": 1046,
    "start_time": "2025-04-30T04:36:44.072Z"
   },
   {
    "duration": 14,
    "start_time": "2025-04-30T04:42:18.026Z"
   },
   {
    "duration": 14,
    "start_time": "2025-04-30T04:42:40.029Z"
   },
   {
    "duration": 14,
    "start_time": "2025-04-30T04:43:47.309Z"
   },
   {
    "duration": 3,
    "start_time": "2025-04-30T04:43:54.769Z"
   },
   {
    "duration": 856,
    "start_time": "2025-04-30T04:43:55.957Z"
   },
   {
    "duration": 12,
    "start_time": "2025-04-30T04:43:57.199Z"
   },
   {
    "duration": 11,
    "start_time": "2025-04-30T04:43:59.268Z"
   },
   {
    "duration": 9,
    "start_time": "2025-04-30T04:44:01.057Z"
   },
   {
    "duration": 9,
    "start_time": "2025-04-30T04:44:02.421Z"
   },
   {
    "duration": 22,
    "start_time": "2025-04-30T04:44:05.817Z"
   },
   {
    "duration": 14,
    "start_time": "2025-04-30T04:44:11.635Z"
   },
   {
    "duration": 14,
    "start_time": "2025-04-30T04:44:32.708Z"
   },
   {
    "duration": 112,
    "start_time": "2025-04-30T04:47:20.835Z"
   },
   {
    "duration": 4,
    "start_time": "2025-04-30T04:47:22.875Z"
   },
   {
    "duration": 13,
    "start_time": "2025-04-30T04:47:24.430Z"
   },
   {
    "duration": 10,
    "start_time": "2025-04-30T04:47:25.909Z"
   },
   {
    "duration": 15,
    "start_time": "2025-04-30T04:47:27.133Z"
   },
   {
    "duration": 7,
    "start_time": "2025-04-30T04:47:57.455Z"
   },
   {
    "duration": 14,
    "start_time": "2025-04-30T04:48:15.365Z"
   },
   {
    "duration": 14,
    "start_time": "2025-04-30T04:48:22.713Z"
   },
   {
    "duration": 40,
    "start_time": "2025-04-30T04:48:40.134Z"
   },
   {
    "duration": 34,
    "start_time": "2025-04-30T04:48:53.746Z"
   },
   {
    "duration": 43,
    "start_time": "2025-04-30T04:49:02.024Z"
   },
   {
    "duration": 13,
    "start_time": "2025-04-30T05:35:37.534Z"
   },
   {
    "duration": 14,
    "start_time": "2025-04-30T05:35:46.005Z"
   },
   {
    "duration": 672,
    "start_time": "2025-04-30T05:36:58.501Z"
   },
   {
    "duration": 13,
    "start_time": "2025-04-30T05:41:59.986Z"
   },
   {
    "duration": 13,
    "start_time": "2025-04-30T05:42:47.942Z"
   },
   {
    "duration": 14,
    "start_time": "2025-04-30T05:43:54.235Z"
   },
   {
    "duration": 445,
    "start_time": "2025-04-30T05:44:25.109Z"
   },
   {
    "duration": 999,
    "start_time": "2025-04-30T05:44:25.556Z"
   },
   {
    "duration": 11,
    "start_time": "2025-04-30T05:44:26.557Z"
   },
   {
    "duration": 10,
    "start_time": "2025-04-30T05:44:26.571Z"
   },
   {
    "duration": 7,
    "start_time": "2025-04-30T05:44:26.583Z"
   },
   {
    "duration": 8,
    "start_time": "2025-04-30T05:44:26.592Z"
   },
   {
    "duration": 48,
    "start_time": "2025-04-30T05:44:26.601Z"
   },
   {
    "duration": 97,
    "start_time": "2025-04-30T05:44:26.652Z"
   },
   {
    "duration": 8,
    "start_time": "2025-04-30T05:44:26.751Z"
   },
   {
    "duration": 103,
    "start_time": "2025-04-30T05:44:26.762Z"
   },
   {
    "duration": 109,
    "start_time": "2025-04-30T05:44:26.867Z"
   },
   {
    "duration": 30,
    "start_time": "2025-04-30T05:44:26.978Z"
   },
   {
    "duration": 13,
    "start_time": "2025-04-30T05:44:27.009Z"
   },
   {
    "duration": 22,
    "start_time": "2025-04-30T05:44:27.024Z"
   },
   {
    "duration": 20,
    "start_time": "2025-04-30T05:44:27.047Z"
   },
   {
    "duration": 15,
    "start_time": "2025-04-30T05:44:27.068Z"
   },
   {
    "duration": 3,
    "start_time": "2025-04-30T05:44:27.085Z"
   },
   {
    "duration": 3,
    "start_time": "2025-04-30T05:44:27.090Z"
   },
   {
    "duration": 5,
    "start_time": "2025-04-30T05:44:27.094Z"
   },
   {
    "duration": 4,
    "start_time": "2025-04-30T05:44:27.101Z"
   },
   {
    "duration": 744,
    "start_time": "2025-04-30T05:44:27.143Z"
   },
   {
    "duration": 38,
    "start_time": "2025-04-30T05:44:27.889Z"
   },
   {
    "duration": 20,
    "start_time": "2025-04-30T05:44:27.929Z"
   },
   {
    "duration": 3,
    "start_time": "2025-04-30T05:44:27.950Z"
   },
   {
    "duration": 4,
    "start_time": "2025-04-30T05:44:27.955Z"
   },
   {
    "duration": 6,
    "start_time": "2025-04-30T05:44:27.961Z"
   },
   {
    "duration": 8,
    "start_time": "2025-04-30T05:44:27.968Z"
   },
   {
    "duration": 5,
    "start_time": "2025-04-30T05:44:27.980Z"
   },
   {
    "duration": 14,
    "start_time": "2025-04-30T05:44:27.986Z"
   },
   {
    "duration": 53,
    "start_time": "2025-04-30T05:44:28.002Z"
   },
   {
    "duration": 31,
    "start_time": "2025-04-30T05:44:28.056Z"
   },
   {
    "duration": 13,
    "start_time": "2025-04-30T05:44:28.089Z"
   },
   {
    "duration": 8,
    "start_time": "2025-04-30T05:44:28.104Z"
   },
   {
    "duration": 38,
    "start_time": "2025-04-30T05:44:28.143Z"
   },
   {
    "duration": 3,
    "start_time": "2025-04-30T05:44:28.183Z"
   },
   {
    "duration": 4,
    "start_time": "2025-04-30T05:44:28.188Z"
   },
   {
    "duration": 8,
    "start_time": "2025-04-30T05:44:28.193Z"
   },
   {
    "duration": 215,
    "start_time": "2025-04-30T05:44:28.202Z"
   },
   {
    "duration": 7,
    "start_time": "2025-04-30T05:44:28.419Z"
   },
   {
    "duration": 140,
    "start_time": "2025-04-30T05:44:28.428Z"
   },
   {
    "duration": 16,
    "start_time": "2025-04-30T05:44:28.570Z"
   },
   {
    "duration": 212,
    "start_time": "2025-04-30T05:44:28.588Z"
   },
   {
    "duration": 9,
    "start_time": "2025-04-30T05:44:28.802Z"
   },
   {
    "duration": 4,
    "start_time": "2025-04-30T05:44:28.813Z"
   },
   {
    "duration": 4,
    "start_time": "2025-04-30T05:44:28.819Z"
   },
   {
    "duration": 334,
    "start_time": "2025-04-30T05:44:28.842Z"
   },
   {
    "duration": 1028,
    "start_time": "2025-04-30T05:44:29.179Z"
   },
   {
    "duration": 105,
    "start_time": "2025-04-30T05:44:30.209Z"
   },
   {
    "duration": 10,
    "start_time": "2025-04-30T05:44:30.316Z"
   },
   {
    "duration": 435,
    "start_time": "2025-04-30T05:44:30.328Z"
   },
   {
    "duration": 244,
    "start_time": "2025-04-30T05:44:30.765Z"
   },
   {
    "duration": 3,
    "start_time": "2025-04-30T05:44:31.011Z"
   },
   {
    "duration": 122,
    "start_time": "2025-04-30T05:44:31.016Z"
   },
   {
    "duration": 196,
    "start_time": "2025-04-30T05:44:31.142Z"
   },
   {
    "duration": 0,
    "start_time": "2025-04-30T05:44:31.343Z"
   },
   {
    "duration": 0,
    "start_time": "2025-04-30T05:44:31.344Z"
   },
   {
    "duration": 0,
    "start_time": "2025-04-30T05:44:31.345Z"
   },
   {
    "duration": 0,
    "start_time": "2025-04-30T05:44:31.346Z"
   },
   {
    "duration": 14,
    "start_time": "2025-04-30T05:44:44.385Z"
   },
   {
    "duration": 13,
    "start_time": "2025-04-30T05:44:54.460Z"
   },
   {
    "duration": 705,
    "start_time": "2025-04-30T05:45:16.910Z"
   },
   {
    "duration": 105,
    "start_time": "2025-04-30T05:45:24.827Z"
   },
   {
    "duration": 13,
    "start_time": "2025-04-30T05:45:25.803Z"
   },
   {
    "duration": 13,
    "start_time": "2025-04-30T05:45:27.080Z"
   },
   {
    "duration": 702,
    "start_time": "2025-04-30T05:45:30.267Z"
   },
   {
    "duration": 438,
    "start_time": "2025-04-30T05:45:33.640Z"
   },
   {
    "duration": 81,
    "start_time": "2025-04-30T05:47:47.196Z"
   },
   {
    "duration": 843,
    "start_time": "2025-04-30T05:56:26.145Z"
   },
   {
    "duration": 168,
    "start_time": "2025-04-30T05:58:17.381Z"
   },
   {
    "duration": 652,
    "start_time": "2025-04-30T06:00:35.264Z"
   },
   {
    "duration": 249,
    "start_time": "2025-04-30T06:00:36.146Z"
   },
   {
    "duration": 37,
    "start_time": "2025-04-30T06:01:10.661Z"
   },
   {
    "duration": 659,
    "start_time": "2025-04-30T06:02:06.349Z"
   },
   {
    "duration": 38,
    "start_time": "2025-04-30T06:02:07.837Z"
   },
   {
    "duration": 408,
    "start_time": "2025-04-30T06:05:39.714Z"
   },
   {
    "duration": 621,
    "start_time": "2025-04-30T06:05:50.651Z"
   },
   {
    "duration": 290,
    "start_time": "2025-04-30T06:06:54.827Z"
   },
   {
    "duration": 687,
    "start_time": "2025-04-30T06:07:59.677Z"
   },
   {
    "duration": 451,
    "start_time": "2025-04-30T06:08:01.327Z"
   },
   {
    "duration": 5,
    "start_time": "2025-04-30T06:26:45.147Z"
   },
   {
    "duration": 9,
    "start_time": "2025-04-30T06:27:02.115Z"
   },
   {
    "duration": 900,
    "start_time": "2025-04-30T06:28:47.709Z"
   },
   {
    "duration": 2308,
    "start_time": "2025-04-30T06:29:58.572Z"
   },
   {
    "duration": 48,
    "start_time": "2025-04-30T06:37:05.964Z"
   },
   {
    "duration": 39,
    "start_time": "2025-04-30T06:38:32.081Z"
   },
   {
    "duration": 136,
    "start_time": "2025-04-30T06:38:35.061Z"
   },
   {
    "duration": 1586,
    "start_time": "2025-04-30T06:56:01.778Z"
   }
  ],
  "colab": {
   "provenance": []
  },
  "kernelspec": {
   "display_name": "Python 3 (ipykernel)",
   "language": "python",
   "name": "python3"
  },
  "language_info": {
   "codemirror_mode": {
    "name": "ipython",
    "version": 3
   },
   "file_extension": ".py",
   "mimetype": "text/x-python",
   "name": "python",
   "nbconvert_exporter": "python",
   "pygments_lexer": "ipython3",
   "version": "3.9.19"
  },
  "toc": {
   "base_numbering": 1,
   "nav_menu": {},
   "number_sections": true,
   "sideBar": true,
   "skip_h1_title": true,
   "title_cell": "Table of Contents",
   "title_sidebar": "Contents",
   "toc_cell": false,
   "toc_position": {},
   "toc_section_display": true,
   "toc_window_display": false
  },
  "vscode": {
   "interpreter": {
    "hash": "01a7be9ec63e704a62cefc5fe7a4756944464ee731be31632bdf42a4cb4688cf"
   }
  }
 },
 "nbformat": 4,
 "nbformat_minor": 5
}
